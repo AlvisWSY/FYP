{
 "cells": [
  {
   "cell_type": "code",
   "execution_count": null,
   "metadata": {},
   "outputs": [],
   "source": [
    "import pandas as pd\n",
    "import matplotlib.pyplot as plt\n",
    "import matplotlib.image as mpimg\n",
    "import glob\n",
    "import os"
   ]
  },
  {
   "cell_type": "code",
   "execution_count": null,
   "metadata": {},
   "outputs": [],
   "source": [
    "def filter_and_save_data(path1, path3, path4, path5, path6):\n",
    "    #path1: 合并后的csv文件所在的文件夹\n",
    "    #path3: 图片所在的文件夹\n",
    "    #path4: corona数据保存的文件夹\n",
    "    #path5: internal数据保存的文件夹\n",
    "    #path6: noise数据保存的文件夹\n",
    "\n",
    "    # 获取path1下的所有csv文件\n",
    "    csv_files = glob.glob(os.path.join(path1, \"*_merged.csv\"))\n",
    "\n",
    "    for csv_file in csv_files:\n",
    "        # 获取文件名\n",
    "        filename = os.path.basename(csv_file)[:-11]  # 去掉\"_merged.csv\"\n",
    "\n",
    "        filename = filename.replace('WaveForm','PRPD')\n",
    "\n",
    "        # 读取并显示图片\n",
    "        image_files = glob.glob(os.path.join(path3, filename + \"_*.png\"))\n",
    "        for image_file in image_files:\n",
    "            img = mpimg.imread(image_file)\n",
    "            print(image_file[-5])\n",
    "            plt.figure(figsize=(12, 8))  # 你可以根据需要调整这个大小\n",
    "            plt.imshow(img, aspect='auto')\n",
    "            plt.axis('off')  # 关闭坐标轴\n",
    "            plt.show()\n",
    "\n",
    "        # 读取合并后的csv文件\n",
    "        df = pd.read_csv(csv_file)\n",
    "\n",
    "        # 根据你的输入，将数据分为三类\n",
    "        #corona_classes = input(\"请输入corona的类别，多个类别请用逗号分隔：\").split(',')\n",
    "        internal_classes = input(\"请输入internal的类别，多个类别请用逗号分隔：\").split(',')\n",
    "        noise_classes = input(\"请输入noise的类别，多个类别请用逗号分隔：\").split(',')\n",
    "\n",
    "        #corona_classes = [int(i) for i in corona_classes if i]  # 如果字符串不为空，则转换为整数\n",
    "        internal_classes = [int(i) for i in internal_classes if i]\n",
    "        noise_classes = [int(i) for i in noise_classes if i]\n",
    "        \n",
    "        #corona_df = df[df['cluster'].isin(corona_classes)]\n",
    "        internal_df = df[df['cluster'].isin(internal_classes)]\n",
    "        noise_df = df[df['cluster'].isin(noise_classes)]\n",
    "\n",
    "        #print(\"corona_df:\")\n",
    "        #print(corona_df)\n",
    "        print(\"internal_df:\")\n",
    "        print(internal_df)\n",
    "        print(\"noise_df:\")\n",
    "        print(noise_df)\n",
    "\n",
    "        filename = filename.replace('PRPD','WaveForm')\n",
    "        # 将这三类数据分别保存到path4、path5和path6下\n",
    "        # 如果DataFrame不为空，则保存到CSV文件\n",
    "        #if not corona_df.empty:\n",
    "        #corona_df.to_csv(os.path.join(path4, filename + \"_corona.csv\"), index=False)\n",
    "        if not internal_df.empty:\n",
    "            internal_df.to_csv(os.path.join(path5, filename + \"_internal.csv\"), index=False)\n",
    "        if not noise_df.empty:\n",
    "            noise_df.to_csv(os.path.join(path6, filename + \"_noise.csv\"), index=False)\n",
    "        \n",
    "        print('---------------------------------------')"
   ]
  },
  {
   "cell_type": "code",
   "execution_count": null,
   "metadata": {},
   "outputs": [],
   "source": [
    "path1='/media/mldadmin/home/s123mdg34_04/WangShengyuan/FYP/data/internal/merged'\n",
    "path3='/media/mldadmin/home/s123mdg34_04/WangShengyuan/FYP/Features/internal/K-Means/benchmark/benchmark_3/prpd_figure'\n",
    "path4='/media/mldadmin/home/s123mdg34_04/WangShengyuan/FYP/data/internal/cleaned/corona'\n",
    "path5='/media/mldadmin/home/s123mdg34_04/WangShengyuan/FYP/data/internal/cleaned/internal'\n",
    "path6='/media/mldadmin/home/s123mdg34_04/WangShengyuan/FYP/data/internal/cleaned/noise'\n",
    "\n",
    "filter_and_save_data(path1, path3, path4, path5, path6)"
   ]
  },
  {
   "cell_type": "code",
   "execution_count": null,
   "metadata": {},
   "outputs": [],
   "source": []
  }
 ],
 "metadata": {
  "kernelspec": {
   "display_name": "FYP",
   "language": "python",
   "name": "python3"
  },
  "language_info": {
   "codemirror_mode": {
    "name": "ipython",
    "version": 3
   },
   "file_extension": ".py",
   "mimetype": "text/x-python",
   "name": "python",
   "nbconvert_exporter": "python",
   "pygments_lexer": "ipython3",
   "version": "3.8.18"
  }
 },
 "nbformat": 4,
 "nbformat_minor": 2
}
