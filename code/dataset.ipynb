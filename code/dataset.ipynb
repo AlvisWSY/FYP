{
 "cells": [
  {
   "cell_type": "code",
   "execution_count": null,
   "metadata": {},
   "outputs": [],
   "source": [
    "import pandas as pd\n",
    "import matplotlib.pyplot as plt\n",
    "import matplotlib.image as mpimg\n",
    "import glob\n",
    "import os"
   ]
  },
  {
   "cell_type": "code",
   "execution_count": null,
   "metadata": {},
   "outputs": [],
   "source": [
    "def filter_and_save_data(path1, path3, path4, path5, path6):\n",
    "    #path1: merged csv filepath\n",
    "    #path3: img filepath\n",
    "    #path4: corona \n",
    "    #path5: internal\n",
    "    #path6: noise\n",
    "\n",
    "    # get all merged csv files\n",
    "    csv_files = glob.glob(os.path.join(path1, \"*_merged.csv\"))\n",
    "\n",
    "    for csv_file in csv_files:\n",
    "        # get the filename\n",
    "        filename = os.path.basename(csv_file)[:-11]  # remove \"_merged.csv\"\n",
    "\n",
    "        filename = filename.replace('WaveForm','PRPD')\n",
    "\n",
    "        # read and show the image\n",
    "        image_files = glob.glob(os.path.join(path3, filename + \"_*.png\"))\n",
    "        for image_file in image_files:\n",
    "            img = mpimg.imread(image_file)\n",
    "            print(image_file[-5])\n",
    "            plt.figure(figsize=(12, 8))  \n",
    "            plt.imshow(img, aspect='auto')\n",
    "            plt.axis('off')  \n",
    "            plt.show()\n",
    "\n",
    "        # read the merged csv file\n",
    "        df = pd.read_csv(csv_file)\n",
    "\n",
    "        # show the first few rows of the DataFrame\n",
    "        #corona_classes = input(\"please input class for corona, sep=','\").split(',')\n",
    "        internal_classes = input(\"please input class for corona, sep=','\").split(',')\n",
    "        noise_classes = input(\"please input class for corona, sep=','\").split(',')\n",
    "\n",
    "        #corona_classes = [int(i) for i in corona_classes if i]  # remove empty string\n",
    "        internal_classes = [int(i) for i in internal_classes if i]\n",
    "        noise_classes = [int(i) for i in noise_classes if i]\n",
    "        \n",
    "        #corona_df = df[df['cluster'].isin(corona_classes)]\n",
    "        internal_df = df[df['cluster'].isin(internal_classes)]\n",
    "        noise_df = df[df['cluster'].isin(noise_classes)]\n",
    "\n",
    "        #print(\"corona_df:\")\n",
    "        #print(corona_df)\n",
    "        print(\"internal_df:\")\n",
    "        print(internal_df)\n",
    "        print(\"noise_df:\")\n",
    "        print(noise_df)\n",
    "\n",
    "        filename = filename.replace('PRPD','WaveForm')\n",
    "        # if not empty, save the DataFrame to csv file\n",
    "        #if not corona_df.empty:\n",
    "        #corona_df.to_csv(os.path.join(path4, filename + \"_corona.csv\"), index=False)\n",
    "        if not internal_df.empty:\n",
    "            internal_df.to_csv(os.path.join(path5, filename + \"_internal.csv\"), index=False)\n",
    "        if not noise_df.empty:\n",
    "            noise_df.to_csv(os.path.join(path6, filename + \"_noise.csv\"), index=False)\n",
    "        \n",
    "        print('---------------------------------------')"
   ]
  },
  {
   "cell_type": "code",
   "execution_count": null,
   "metadata": {},
   "outputs": [],
   "source": [
    "path1='/media/mldadmin/home/s123mdg34_04/WangShengyuan/FYP/data/internal/merged'\n",
    "path3='/media/mldadmin/home/s123mdg34_04/WangShengyuan/FYP/Features/internal/K-Means/benchmark/benchmark_3/prpd_figure'\n",
    "path4='/media/mldadmin/home/s123mdg34_04/WangShengyuan/FYP/data/internal/cleaned/corona'\n",
    "path5='/media/mldadmin/home/s123mdg34_04/WangShengyuan/FYP/data/internal/cleaned/internal'\n",
    "path6='/media/mldadmin/home/s123mdg34_04/WangShengyuan/FYP/data/internal/cleaned/noise'\n",
    "\n",
    "filter_and_save_data(path1, path3, path4, path5, path6)"
   ]
  },
  {
   "cell_type": "code",
   "execution_count": null,
   "metadata": {},
   "outputs": [],
   "source": []
  }
 ],
 "metadata": {
  "kernelspec": {
   "display_name": "FYP",
   "language": "python",
   "name": "python3"
  },
  "language_info": {
   "codemirror_mode": {
    "name": "ipython",
    "version": 3
   },
   "file_extension": ".py",
   "mimetype": "text/x-python",
   "name": "python",
   "nbconvert_exporter": "python",
   "pygments_lexer": "ipython3",
   "version": "3.8.18"
  }
 },
 "nbformat": 4,
 "nbformat_minor": 2
}
