{
 "cells": [
  {
   "cell_type": "code",
   "execution_count": 1,
   "metadata": {},
   "outputs": [],
   "source": [
    "import os\n",
    "import shutil\n",
    "\n",
    "PATH = \"/media/mldadmin/home/s123mdg34_04/WangShengyuan/FYP/data/corona/WaveForm\"\n",
    "PATH2 = \"/media/mldadmin/home/s123mdg34_04/WangShengyuan/FYP/data/corona/WaveForm_idx\"\n",
    "\n",
    "# Get a list of files in PATH\n",
    "files = os.listdir(PATH)\n",
    "\n",
    "# Iterate over the files and move the ones with the suffix \"_idx.csv\"\n",
    "for file in files:\n",
    "    if file.endswith(\"_idx.csv\"):\n",
    "        # Construct the source and destination paths\n",
    "        src = os.path.join(PATH, file)\n",
    "        dst = os.path.join(PATH2, file)\n",
    "        \n",
    "        # Move the file to the destination path\n",
    "        shutil.move(src, dst)\n"
   ]
  },
  {
   "cell_type": "code",
   "execution_count": null,
   "metadata": {},
   "outputs": [],
   "source": []
  }
 ],
 "metadata": {
  "kernelspec": {
   "display_name": "FYP",
   "language": "python",
   "name": "python3"
  },
  "language_info": {
   "codemirror_mode": {
    "name": "ipython",
    "version": 3
   },
   "file_extension": ".py",
   "mimetype": "text/x-python",
   "name": "python",
   "nbconvert_exporter": "python",
   "pygments_lexer": "ipython3",
   "version": "3.8.18"
  }
 },
 "nbformat": 4,
 "nbformat_minor": 2
}
