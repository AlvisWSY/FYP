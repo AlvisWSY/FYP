{
 "cells": [
  {
   "cell_type": "code",
   "execution_count": 21,
   "id": "997996dc",
   "metadata": {},
   "outputs": [],
   "source": [
    "# -*- coding: utf-8 -*-\n",
    "import os,copy,csv,importlib,time,math\n",
    "import numpy as np\n",
    "import math,random,shutil\n",
    "import matplotlib.pyplot as plt\n",
    "from PIL import Image\n",
    "from scipy import signal\n",
    "import pickle as pickle\n",
    "from sklearn import preprocessing\n",
    "from sklearn.metrics import confusion_matrix\n",
    "from sklearn.metrics import roc_curve, auc\n",
    "from sklearn.cluster import KMeans, MeanShift, AgglomerativeClustering\n",
    "from sklearn.metrics import silhouette_score\n",
    "from sklearn.preprocessing import StandardScaler\n",
    "from sklearn import svm\n",
    "from tqdm import tqdm\n",
    "from sklearn.model_selection import GridSearchCV\n",
    "from itertools import cycle\n",
    "from matplotlib import cm\n",
    "from scipy.stats import gaussian_kde\n",
    "colors = cycle(\"bgrcmykbgrcmykbgrcmykbgrcmyk\")\n",
    "import sys\n",
    "csv.field_size_limit(sys.maxsize)\n",
    "import glob\n",
    "import pandas as pd\n"
   ]
  },
  {
   "cell_type": "code",
   "execution_count": 22,
   "id": "f4ff78cc",
   "metadata": {},
   "outputs": [],
   "source": [
    "#########################################################################################\n",
    "#set the seed for random environment\n",
    "#here we set the seed to 45\n",
    "#########################################################################################\n",
    "def seed_everything(seed=45):\n",
    "    np.random.seed(seed)\n",
    "    random.seed(seed)\n",
    "    os.environ['PYTHONHASHSEED'] = str(seed)\n",
    "    \n",
    "#when import the module the seed is set\n",
    "seed_everything()\n",
    "    \n",
    "#########################################################################################\n",
    "#function: To read the prpd and waveform data from the .txt or .csv file\n",
    "#input: prpd_name, waveform_name are the full path name of the data file\n",
    "#output: numpy array of the prpd and waveform data\n",
    "#     for the prpd, 2*n array, n is the number of the waveform point in prpd\n",
    "#              row 0 is the amplitude of the prpd, row 1 is the phase of each point\n",
    "#     for the waveform, n*d array, n is the number of the waveform, d is the length of\n",
    "#              the waveform\n",
    "#########################################################################################\n",
    "def read_data(prpd_name, waveform_name):\n",
    "    #prepare the raw data\n",
    "    prpd_raw_data = []\n",
    "    waveform_raw_data = []\n",
    "    \n",
    "    #get the file format\n",
    "    file_format = prpd_name.split('.')[-1]\n",
    "    file_format_tmp = waveform_name.split('.')[-1]\n",
    "    assert file_format == file_format_tmp\n",
    "    assert os.path.exists(prpd_name) and os.path.exists(waveform_name), 'PRPD or Waveform file not exist!'\n",
    "    \n",
    "    #read data flag\n",
    "    read_flag = True\n",
    "    \n",
    "    #get prpd data\n",
    "    prpd_ampl = list()\n",
    "    prpd_angle = list()\n",
    "    waveform_list = list()\n",
    "    \n",
    "    if file_format == 'txt':\n",
    "        try:\n",
    "            fopen = open(prpd_name)\n",
    "            prpd_raw_data = fopen.readlines()\n",
    "            fopen.close()\n",
    "            for one_ampl in prpd_raw_data[0].split('\\t'):\n",
    "                prpd_ampl.append(np.float32(one_ampl))\n",
    "            for one_angle in prpd_raw_data[1].split('\\t'):\n",
    "                prpd_angle.append(round(float(one_angle)))\n",
    "\n",
    "            fopen = open(waveform_name)\n",
    "            waveform_raw_data = fopen.readlines()\n",
    "            fopen.close()\n",
    "            for one_wave in waveform_raw_data:\n",
    "                waveform_list.append(np.array(one_wave.split('\\t'), dtype=np.float16))\n",
    "            \n",
    "            read_flag = True\n",
    "            \n",
    "        except Exception as e:\n",
    "            read_flag = False\n",
    "            raise e\n",
    "        \n",
    "    elif file_format == 'csv':\n",
    "        try:\n",
    "            fopen = open(prpd_name, 'r')\n",
    "            csvfile = csv.reader(fopen)\n",
    "            for i in csvfile:\n",
    "                prpd_raw_data.append(i)\n",
    "            for one_ampl in prpd_raw_data[0][0].split('\\t'):\n",
    "                prpd_ampl.append(float(one_ampl))\n",
    "            for one_angle in prpd_raw_data[1][0].split('\\t'):\n",
    "                prpd_angle.append(round(float(one_angle)))\n",
    "            fopen.close()\n",
    "\n",
    "            fopen = open(waveform_name, 'r')\n",
    "            csvfile = csv.reader(fopen)\n",
    "            for one in csvfile:\n",
    "                #skip the header\n",
    "                if one[0]=='WaveformData[0]\tWaveformData[1]\tWaveformData[2]\tWaveformData[3]\tWaveformData[4]\tWaveformData[5]\tWaveformData[6]\tWaveformData[7]\tWaveformData[8]\tWaveformData[9]\tWaveformData[10]\tWaveformData[11]\tWaveformData[12]\tWaveformData[13]\tWaveformData[14]\tWaveformData[15]\tWaveformData[16]\tWaveformData[17]\tWaveformData[18]\tWaveformData[19]\tWaveformData[20]\tWaveformData[21]\tWaveformData[22]\tWaveformData[23]\tWaveformData[24]\tWaveformData[25]\tWaveformData[26]\tWaveformData[27]\tWaveformData[28]\tWaveformData[29]\tWaveformData[30]\tWaveformData[31]\tWaveformData[32]\tWaveformData[33]\tWaveformData[34]\tWaveformData[35]\tWaveformData[36]\tWaveformData[37]\tWaveformData[38]\tWaveformData[39]\tWaveformData[40]\tWaveformData[41]\tWaveformData[42]\tWaveformData[43]\tWaveformData[44]\tWaveformData[45]\tWaveformData[46]\tWaveformData[47]\tWaveformData[48]\tWaveformData[49]\tWaveformData[50]\tWaveformData[51]\tWaveformData[52]\tWaveformData[53]\tWaveformData[54]\tWaveformData[55]\tWaveformData[56]\tWaveformData[57]\tWaveformData[58]\tWaveformData[59]\tWaveformData[60]\tWaveformData[61]\tWaveformData[62]\tWaveformData[63]\tWaveformData[64]\tWaveformData[65]\tWaveformData[66]\tWaveformData[67]\tWaveformData[68]\tWaveformData[69]\tWaveformData[70]\tWaveformData[71]\tWaveformData[72]\tWaveformData[73]\tWaveformData[74]\tWaveformData[75]\tWaveformData[76]\tWaveformData[77]\tWaveformData[78]\tWaveformData[79]\tWaveformData[80]\tWaveformData[81]\tWaveformData[82]\tWaveformData[83]\tWaveformData[84]\tWaveformData[85]\tWaveformData[86]\tWaveformData[87]\tWaveformData[88]\tWaveformData[89]\tWaveformData[90]\tWaveformData[91]\tWaveformData[92]\tWaveformData[93]\tWaveformData[94]\tWaveformData[95]\tWaveformData[96]\tWaveformData[97]\tWaveformData[98]\tWaveformData[99]\tWaveformData[100]\tWaveformData[101]\tWaveformData[102]\tWaveformData[103]\tWaveformData[104]\tWaveformData[105]\tWaveformData[106]\tWaveformData[107]\tWaveformData[108]\tWaveformData[109]\tWaveformData[110]\tWaveformData[111]\tWaveformData[112]\tWaveformData[113]\tWaveformData[114]\tWaveformData[115]\tWaveformData[116]\tWaveformData[117]\tWaveformData[118]\tWaveformData[119]\tWaveformData[120]\tWaveformData[121]\tWaveformData[122]\tWaveformData[123]\tWaveformData[124]\tWaveformData[125]\tWaveformData[126]\tWaveformData[127]\tWaveformData[128]\tWaveformData[129]\tWaveformData[130]\tWaveformData[131]\tWaveformData[132]\tWaveformData[133]\tWaveformData[134]\tWaveformData[135]\tWaveformData[136]\tWaveformData[137]\tWaveformData[138]\tWaveformData[139]\tWaveformData[140]\tWaveformData[141]\tWaveformData[142]\tWaveformData[143]\tWaveformData[144]\tWaveformData[145]\tWaveformData[146]\tWaveformData[147]\tWaveformData[148]\tWaveformData[149]\tWaveformData[150]\tWaveformData[151]\tWaveformData[152]\tWaveformData[153]\tWaveformData[154]\tWaveformData[155]\tWaveformData[156]\tWaveformData[157]\tWaveformData[158]\tWaveformData[159]\tWaveformData[160]\tWaveformData[161]\tWaveformData[162]\tWaveformData[163]\tWaveformData[164]\tWaveformData[165]\tWaveformData[166]\tWaveformData[167]\tWaveformData[168]\tWaveformData[169]\tWaveformData[170]\tWaveformData[171]\tWaveformData[172]\tWaveformData[173]\tWaveformData[174]\tWaveformData[175]\tWaveformData[176]\tWaveformData[177]\tWaveformData[178]\tWaveformData[179]\tWaveformData[180]\tWaveformData[181]\tWaveformData[182]\tWaveformData[183]\tWaveformData[184]\tWaveformData[185]\tWaveformData[186]\tWaveformData[187]\tWaveformData[188]\tWaveformData[189]\tWaveformData[190]\tWaveformData[191]\tWaveformData[192]\tWaveformData[193]\tWaveformData[194]\tWaveformData[195]\tWaveformData[196]\tWaveformData[197]\tWaveformData[198]\tWaveformData[199]\tWaveformData[200]\tWaveformData[201]\tWaveformData[202]\tWaveformData[203]\tWaveformData[204]\tWaveformData[205]\tWaveformData[206]\tWaveformData[207]\tWaveformData[208]\tWaveformData[209]\tWaveformData[210]\tWaveformData[211]\tWaveformData[212]\tWaveformData[213]\tWaveformData[214]\tWaveformData[215]\tWaveformData[216]\tWaveformData[217]\tWaveformData[218]\tWaveformData[219]\tWaveformData[220]\tWaveformData[221]\tWaveformData[222]\tWaveformData[223]\tWaveformData[224]\tWaveformData[225]\tWaveformData[226]\tWaveformData[227]\tWaveformData[228]\tWaveformData[229]\tWaveformData[230]\tWaveformData[231]\tWaveformData[232]\tWaveformData[233]\tWaveformData[234]\tWaveformData[235]\tWaveformData[236]\tWaveformData[237]\tWaveformData[238]\tWaveformData[239]\tWaveformData[240]\tWaveformData[241]\tWaveformData[242]\tWaveformData[243]\tWaveformData[244]\tWaveformData[245]\tWaveformData[246]\tWaveformData[247]\tWaveformData[248]\tWaveformData[249]\tWaveformData[250]\tWaveformData[251]\tWaveformData[252]\tWaveformData[253]\tWaveformData[254]\tWaveformData[255]':\n",
    "                    continue\n",
    "                waveform_list.append(np.array(one[0].split('\\t'), dtype=np.float16))\n",
    "            fopen.close()\n",
    "            read_flag = True\n",
    "            \n",
    "            prpd_list = np.array([prpd_ampl,prpd_angle])\n",
    "            waveform_list = np.array(waveform_list, dtype=np.float16)\n",
    "            if waveform_list.shape[0]!=len(prpd_angle):\n",
    "                read_flag = False\n",
    "                \n",
    "        except Exception as e:\n",
    "            read_flag = False\n",
    "            print(e)\n",
    "            raise e\n",
    "            \n",
    "        if read_flag==False:\n",
    "            prpd_ampl = list()\n",
    "            prpd_angle = list()\n",
    "            waveform_list = list()\n",
    "            waveform_raw_data = list()\n",
    "            try:\n",
    "                fopen = open(prpd_name, 'r')\n",
    "                csvfile = csv.reader(fopen)\n",
    "                for i in csvfile:\n",
    "                    prpd_raw_data.append(i)\n",
    "                prpd_ampl = np.array(prpd_raw_data, dtype=np.float16)[0]\n",
    "                prpd_angle = np.array(prpd_raw_data, dtype=np.float16)[1]\n",
    "                fopen.close()    \n",
    "                \n",
    "                fopen = open(waveform_name, 'r')\n",
    "                csvfile = csv.reader(fopen)\n",
    "                for one in csvfile:\n",
    "                    waveform_list.append(np.array(one, dtype=np.float16))\n",
    "                fopen.close()\n",
    "                read_flag = True\n",
    "                prpd_list = np.array([prpd_ampl,prpd_angle])\n",
    "                waveform_list = np.array(waveform_list, dtype=np.float16)\n",
    "                if waveform_list.shape[0]!=len(prpd_angle):\n",
    "                    read_flag = False\n",
    "\n",
    "            except Exception as e:\n",
    "                read_flag = False\n",
    "                raise e\n",
    "\n",
    "    else:\n",
    "        raise Exception('data file only support: txt or csv!')\n",
    "\n",
    "    if read_flag==False:\n",
    "        raise Exception('data file read error!')\n",
    "    \n",
    "    prpd_list = np.array([prpd_ampl,prpd_angle], dtype=np.float32).swapaxes(0,1)#trans to n*2 array\n",
    "    waveform_list = np.array(waveform_list, dtype=np.float32)\n",
    "    \n",
    "    assert len(prpd_ampl)==len(prpd_angle)\n",
    "    assert waveform_list.shape[0]==prpd_list.shape[0]\n",
    "    assert prpd_list.shape[1]==2\n",
    "    \n",
    "    return prpd_list, waveform_list"
   ]
  },
  {
   "cell_type": "code",
   "execution_count": 23,
   "id": "706bdf27",
   "metadata": {},
   "outputs": [],
   "source": [
    "def extract_fea(waveform_data):\n",
    "    #waveform_num and feadim\n",
    "    waveform_data = np.array(waveform_data, dtype=np.float32)\n",
    "    waveform_num, feadim = waveform_data.shape\n",
    "    \n",
    "    #normalize the feature\n",
    "    waveform_data_norm = preprocessing.normalize(waveform_data, norm='l2',axis=1)    \n",
    "    \n",
    "    #get the fft feature\n",
    "    fea_fft = np.abs(np.fft.fft(waveform_data))\n",
    "    fea_fft[:,0] /= feadim\n",
    "    fea_fft[:,1:] /= (feadim/2)\n",
    "    fea_fft = np.array(fea_fft[:, 0:feadim//2+1], dtype=np.float32)\n",
    "    \n",
    "    return fea_fft\n",
    "\n",
    "def pd_cluster(waveform_list, cluster_num=3):\n",
    "    #extract feature from the waveforms\n",
    "    waveform_fea = extract_fea(waveform_list)\n",
    "    \n",
    "    #call the kmeans\n",
    "    clusteridx = KMeans(n_clusters=cluster_num).fit_predict(waveform_fea)\n",
    "    \n",
    "    return clusteridx\n",
    "\n",
    "def cluster_prpd(prpd_data, waveform_data, cluster_num=3):\n",
    "    waveform_num = waveform_data.shape[0]\n",
    "    feadim = waveform_data.shape[1]\n",
    "    test_cluster_num = 5\n",
    "    \n",
    "    #if cluster_num is 0, then use the autokmeans\n",
    "    clusteridx = pd_cluster(waveform_data, cluster_num)\n",
    "    \n",
    "    #construct the cluster results\n",
    "    cluster_result = []\n",
    "    for idx in range(cluster_num):\n",
    "        #get each cluster data\n",
    "        one_cluster_waveform = waveform_data[clusteridx==idx, :]\n",
    "        prpd_ampl_cluster = one_cluster_waveform[:,0]\n",
    "        prpd_angle_cluster = one_cluster_waveform[:,1]\n",
    "\n",
    "        #get each cluster data\n",
    "        one_cluster_prpd = prpd_data[clusteridx==idx, :]\n",
    "        prpd_ampl_cluster = one_cluster_prpd[:,0]\n",
    "        prpd_angle_cluster = one_cluster_prpd[:,1]\n",
    "        \n",
    "        #get the basic info of the cluster\n",
    "        pluse_num = prpd_ampl_cluster.shape[0]\n",
    "\n",
    "        ###################stepped sin for corr##################\n",
    "        corr_max = 0\n",
    "        step_num = 36\n",
    "        for step_idx in range(step_num):\n",
    "            sin_prpr_cluster = np.sin(2*np.pi/360*(prpd_angle_cluster+step_idx*360/step_num))\n",
    "\n",
    "            #calc the corr\n",
    "            corr_tmp = abs(round(np.corrcoef(sin_prpr_cluster,prpd_ampl_cluster)[0][1],3))\n",
    "            if corr_tmp > corr_max:\n",
    "                corr_max = corr_tmp\n",
    "        #########################################################\n",
    "        \n",
    "        #save the results\n",
    "        one_cluster_res = {'prpd':one_cluster_prpd, 'corr':corr_max}\n",
    "        cluster_result.append(one_cluster_res)\n",
    "        \n",
    "    return cluster_result, clusteridx"
   ]
  },
  {
   "cell_type": "code",
   "execution_count": 24,
   "id": "4909b22d",
   "metadata": {},
   "outputs": [],
   "source": [
    "def update_fig(prpd_list, max_ampl,f1):        \n",
    "\n",
    "    #############################################update the figure################################################\n",
    "    #get the figure row and col, prepare for plot the prpd and detected prpd\n",
    "    #fig = plt.figure(figsize=(3,2),dpi=300)#figsize=[width, height]\n",
    "    plt.clf()\n",
    "    fontsize = 4\n",
    "    ax = plt.subplot(1,1,1)\n",
    "    plt.grid(linestyle='-.',linewidth=0.2)\n",
    "    plt.rcParams['font.size']=fontsize  #font size\n",
    "\n",
    "    sin_x = np.arange(0,360+1,1)\n",
    "    sin_y = np.arange(0,360+1,1.0)\n",
    "    zero_y = np.zeros(361)\n",
    "    for i in range(len(sin_x)):\n",
    "        sin_y[i] = math.sin(2*math.pi/360*sin_x[i])*max_ampl\n",
    "\n",
    "    plt.plot(sin_x, zero_y, color='grey',linewidth=0.2)\n",
    "    plt.plot(sin_x, sin_y, color='grey',linewidth=0.2)\n",
    "\n",
    "    sc = plt.scatter(prpd_list[:,1], prpd_list[:,0],\n",
    "                     s=0.1, marker=',', cmap=cm.jet)\n",
    "    plt.axis([0,360,-max_ampl,max_ampl])\n",
    "    plt.xticks(size=fontsize)\n",
    "    plt.yticks(size=fontsize)\n",
    "    plt.xlabel('Phase',fontsize=fontsize)\n",
    "    plt.ylabel('Peak',fontsize=fontsize)\n",
    "    plt.title('PRPD',fontsize=fontsize)\n",
    "    f1 = f1.replace('.csv','.png')\n",
    "    f1 = f1.replace('prpd/','prpd_figure/')\n",
    "    plt.savefig(f1, dpi=300)\n",
    "    return True"
   ]
  },
  {
   "cell_type": "code",
   "execution_count": 25,
   "id": "0058d697",
   "metadata": {},
   "outputs": [],
   "source": [
    "# update waveform fig\n",
    "def update_waveform_fig(waveform_list,clusteridx,f2):\n",
    "    plt.clf()\n",
    "    # 假设 cluster_idx 是一个列表，包含每个波形的聚类标签\n",
    "    # cluster_idx = [...]\n",
    "    # 将 waveform_list 和 cluster_idx 组合成一个 DataFrame\n",
    "    df = pd.DataFrame(waveform_list)\n",
    "    df['cluster'] = clusteridx\n",
    "\n",
    "    # 计算每个聚类的平均波形\n",
    "    average_waveforms = df.groupby('cluster').mean()\n",
    "    # 绘制结果\n",
    "    plt.figure(figsize=(3,2))\n",
    "    for cluster in average_waveforms.index:\n",
    "        plt.plot(average_waveforms.loc[cluster], label=f'Cluster {cluster}')\n",
    "    plt.legend()\n",
    "    f2=f2.replace(\"_idx.csv\",\".png\")\n",
    "    f2=f2.replace(\"WaveForm_idx/\",\"WaveForm_figure/\")\n",
    "    plt.savefig(f2, dpi=100)\n",
    "    return True\n",
    "        "
   ]
  },
  {
   "cell_type": "code",
   "execution_count": 26,
   "id": "fc262e96",
   "metadata": {},
   "outputs": [],
   "source": [
    "#test the function\n",
    "data_basepath = '/media/mldadmin/home/s123mdg34_04/WangShengyuan/FYP/data/noise/'\n",
    "prpd_filepath = data_basepath+'prpd/*.csv'\n",
    "waveform_filepath = data_basepath+'WaveForm/*.csv'\n",
    "\n"
   ]
  },
  {
   "cell_type": "code",
   "execution_count": 27,
   "id": "a97e0714",
   "metadata": {},
   "outputs": [
    {
     "name": "stderr",
     "output_type": "stream",
     "text": [
      "/media/mldadmin/home/s123mdg34_04/anaconda3/envs/FYP/lib/python3.8/site-packages/sklearn/cluster/_kmeans.py:1416: FutureWarning: The default value of `n_init` will change from 10 to 'auto' in 1.4. Set the value of `n_init` explicitly to suppress the warning\n",
      "  super()._check_params_vs_input(X, default_n_init=10)\n",
      "/tmp/ipykernel_2202717/2182283565.py:21: UserWarning: No data for colormapping provided via 'c'. Parameters 'cmap' will be ignored\n",
      "  sc = plt.scatter(prpd_list[:,1], prpd_list[:,0],\n",
      "/media/mldadmin/home/s123mdg34_04/anaconda3/envs/FYP/lib/python3.8/site-packages/sklearn/cluster/_kmeans.py:1416: FutureWarning: The default value of `n_init` will change from 10 to 'auto' in 1.4. Set the value of `n_init` explicitly to suppress the warning\n",
      "  super()._check_params_vs_input(X, default_n_init=10)\n",
      "/tmp/ipykernel_2202717/2182283565.py:21: UserWarning: No data for colormapping provided via 'c'. Parameters 'cmap' will be ignored\n",
      "  sc = plt.scatter(prpd_list[:,1], prpd_list[:,0],\n",
      "/media/mldadmin/home/s123mdg34_04/anaconda3/envs/FYP/lib/python3.8/site-packages/sklearn/cluster/_kmeans.py:1416: FutureWarning: The default value of `n_init` will change from 10 to 'auto' in 1.4. Set the value of `n_init` explicitly to suppress the warning\n",
      "  super()._check_params_vs_input(X, default_n_init=10)\n",
      "/tmp/ipykernel_2202717/2182283565.py:21: UserWarning: No data for colormapping provided via 'c'. Parameters 'cmap' will be ignored\n",
      "  sc = plt.scatter(prpd_list[:,1], prpd_list[:,0],\n",
      "/media/mldadmin/home/s123mdg34_04/anaconda3/envs/FYP/lib/python3.8/site-packages/sklearn/cluster/_kmeans.py:1416: FutureWarning: The default value of `n_init` will change from 10 to 'auto' in 1.4. Set the value of `n_init` explicitly to suppress the warning\n",
      "  super()._check_params_vs_input(X, default_n_init=10)\n",
      "/tmp/ipykernel_2202717/2182283565.py:21: UserWarning: No data for colormapping provided via 'c'. Parameters 'cmap' will be ignored\n",
      "  sc = plt.scatter(prpd_list[:,1], prpd_list[:,0],\n",
      "/media/mldadmin/home/s123mdg34_04/anaconda3/envs/FYP/lib/python3.8/site-packages/sklearn/cluster/_kmeans.py:1416: FutureWarning: The default value of `n_init` will change from 10 to 'auto' in 1.4. Set the value of `n_init` explicitly to suppress the warning\n",
      "  super()._check_params_vs_input(X, default_n_init=10)\n",
      "/tmp/ipykernel_2202717/2182283565.py:21: UserWarning: No data for colormapping provided via 'c'. Parameters 'cmap' will be ignored\n",
      "  sc = plt.scatter(prpd_list[:,1], prpd_list[:,0],\n",
      "/media/mldadmin/home/s123mdg34_04/anaconda3/envs/FYP/lib/python3.8/site-packages/sklearn/cluster/_kmeans.py:1416: FutureWarning: The default value of `n_init` will change from 10 to 'auto' in 1.4. Set the value of `n_init` explicitly to suppress the warning\n",
      "  super()._check_params_vs_input(X, default_n_init=10)\n",
      "/tmp/ipykernel_2202717/2182283565.py:21: UserWarning: No data for colormapping provided via 'c'. Parameters 'cmap' will be ignored\n",
      "  sc = plt.scatter(prpd_list[:,1], prpd_list[:,0],\n",
      "/media/mldadmin/home/s123mdg34_04/anaconda3/envs/FYP/lib/python3.8/site-packages/sklearn/cluster/_kmeans.py:1416: FutureWarning: The default value of `n_init` will change from 10 to 'auto' in 1.4. Set the value of `n_init` explicitly to suppress the warning\n",
      "  super()._check_params_vs_input(X, default_n_init=10)\n",
      "/tmp/ipykernel_2202717/2182283565.py:21: UserWarning: No data for colormapping provided via 'c'. Parameters 'cmap' will be ignored\n",
      "  sc = plt.scatter(prpd_list[:,1], prpd_list[:,0],\n",
      "/media/mldadmin/home/s123mdg34_04/anaconda3/envs/FYP/lib/python3.8/site-packages/sklearn/cluster/_kmeans.py:1416: FutureWarning: The default value of `n_init` will change from 10 to 'auto' in 1.4. Set the value of `n_init` explicitly to suppress the warning\n",
      "  super()._check_params_vs_input(X, default_n_init=10)\n",
      "/tmp/ipykernel_2202717/2182283565.py:21: UserWarning: No data for colormapping provided via 'c'. Parameters 'cmap' will be ignored\n",
      "  sc = plt.scatter(prpd_list[:,1], prpd_list[:,0],\n",
      "/media/mldadmin/home/s123mdg34_04/anaconda3/envs/FYP/lib/python3.8/site-packages/sklearn/cluster/_kmeans.py:1416: FutureWarning: The default value of `n_init` will change from 10 to 'auto' in 1.4. Set the value of `n_init` explicitly to suppress the warning\n",
      "  super()._check_params_vs_input(X, default_n_init=10)\n",
      "/tmp/ipykernel_2202717/2182283565.py:21: UserWarning: No data for colormapping provided via 'c'. Parameters 'cmap' will be ignored\n",
      "  sc = plt.scatter(prpd_list[:,1], prpd_list[:,0],\n",
      "/media/mldadmin/home/s123mdg34_04/anaconda3/envs/FYP/lib/python3.8/site-packages/sklearn/cluster/_kmeans.py:1416: FutureWarning: The default value of `n_init` will change from 10 to 'auto' in 1.4. Set the value of `n_init` explicitly to suppress the warning\n",
      "  super()._check_params_vs_input(X, default_n_init=10)\n",
      "/tmp/ipykernel_2202717/2182283565.py:21: UserWarning: No data for colormapping provided via 'c'. Parameters 'cmap' will be ignored\n",
      "  sc = plt.scatter(prpd_list[:,1], prpd_list[:,0],\n",
      "/media/mldadmin/home/s123mdg34_04/anaconda3/envs/FYP/lib/python3.8/site-packages/sklearn/cluster/_kmeans.py:1416: FutureWarning: The default value of `n_init` will change from 10 to 'auto' in 1.4. Set the value of `n_init` explicitly to suppress the warning\n",
      "  super()._check_params_vs_input(X, default_n_init=10)\n",
      "/tmp/ipykernel_2202717/2182283565.py:21: UserWarning: No data for colormapping provided via 'c'. Parameters 'cmap' will be ignored\n",
      "  sc = plt.scatter(prpd_list[:,1], prpd_list[:,0],\n",
      "/media/mldadmin/home/s123mdg34_04/anaconda3/envs/FYP/lib/python3.8/site-packages/sklearn/cluster/_kmeans.py:1416: FutureWarning: The default value of `n_init` will change from 10 to 'auto' in 1.4. Set the value of `n_init` explicitly to suppress the warning\n",
      "  super()._check_params_vs_input(X, default_n_init=10)\n",
      "/tmp/ipykernel_2202717/2182283565.py:21: UserWarning: No data for colormapping provided via 'c'. Parameters 'cmap' will be ignored\n",
      "  sc = plt.scatter(prpd_list[:,1], prpd_list[:,0],\n",
      "/media/mldadmin/home/s123mdg34_04/anaconda3/envs/FYP/lib/python3.8/site-packages/sklearn/cluster/_kmeans.py:1416: FutureWarning: The default value of `n_init` will change from 10 to 'auto' in 1.4. Set the value of `n_init` explicitly to suppress the warning\n",
      "  super()._check_params_vs_input(X, default_n_init=10)\n",
      "/tmp/ipykernel_2202717/2182283565.py:21: UserWarning: No data for colormapping provided via 'c'. Parameters 'cmap' will be ignored\n",
      "  sc = plt.scatter(prpd_list[:,1], prpd_list[:,0],\n",
      "/media/mldadmin/home/s123mdg34_04/anaconda3/envs/FYP/lib/python3.8/site-packages/sklearn/cluster/_kmeans.py:1416: FutureWarning: The default value of `n_init` will change from 10 to 'auto' in 1.4. Set the value of `n_init` explicitly to suppress the warning\n",
      "  super()._check_params_vs_input(X, default_n_init=10)\n",
      "/tmp/ipykernel_2202717/2182283565.py:21: UserWarning: No data for colormapping provided via 'c'. Parameters 'cmap' will be ignored\n",
      "  sc = plt.scatter(prpd_list[:,1], prpd_list[:,0],\n",
      "/media/mldadmin/home/s123mdg34_04/anaconda3/envs/FYP/lib/python3.8/site-packages/sklearn/cluster/_kmeans.py:1416: FutureWarning: The default value of `n_init` will change from 10 to 'auto' in 1.4. Set the value of `n_init` explicitly to suppress the warning\n",
      "  super()._check_params_vs_input(X, default_n_init=10)\n",
      "/tmp/ipykernel_2202717/2182283565.py:21: UserWarning: No data for colormapping provided via 'c'. Parameters 'cmap' will be ignored\n",
      "  sc = plt.scatter(prpd_list[:,1], prpd_list[:,0],\n",
      "/media/mldadmin/home/s123mdg34_04/anaconda3/envs/FYP/lib/python3.8/site-packages/sklearn/cluster/_kmeans.py:1416: FutureWarning: The default value of `n_init` will change from 10 to 'auto' in 1.4. Set the value of `n_init` explicitly to suppress the warning\n",
      "  super()._check_params_vs_input(X, default_n_init=10)\n",
      "/tmp/ipykernel_2202717/2182283565.py:21: UserWarning: No data for colormapping provided via 'c'. Parameters 'cmap' will be ignored\n",
      "  sc = plt.scatter(prpd_list[:,1], prpd_list[:,0],\n",
      "/media/mldadmin/home/s123mdg34_04/anaconda3/envs/FYP/lib/python3.8/site-packages/sklearn/cluster/_kmeans.py:1416: FutureWarning: The default value of `n_init` will change from 10 to 'auto' in 1.4. Set the value of `n_init` explicitly to suppress the warning\n",
      "  super()._check_params_vs_input(X, default_n_init=10)\n",
      "/tmp/ipykernel_2202717/2182283565.py:21: UserWarning: No data for colormapping provided via 'c'. Parameters 'cmap' will be ignored\n",
      "  sc = plt.scatter(prpd_list[:,1], prpd_list[:,0],\n",
      "/media/mldadmin/home/s123mdg34_04/anaconda3/envs/FYP/lib/python3.8/site-packages/sklearn/cluster/_kmeans.py:1416: FutureWarning: The default value of `n_init` will change from 10 to 'auto' in 1.4. Set the value of `n_init` explicitly to suppress the warning\n",
      "  super()._check_params_vs_input(X, default_n_init=10)\n",
      "/tmp/ipykernel_2202717/2182283565.py:21: UserWarning: No data for colormapping provided via 'c'. Parameters 'cmap' will be ignored\n",
      "  sc = plt.scatter(prpd_list[:,1], prpd_list[:,0],\n",
      "/media/mldadmin/home/s123mdg34_04/anaconda3/envs/FYP/lib/python3.8/site-packages/sklearn/cluster/_kmeans.py:1416: FutureWarning: The default value of `n_init` will change from 10 to 'auto' in 1.4. Set the value of `n_init` explicitly to suppress the warning\n",
      "  super()._check_params_vs_input(X, default_n_init=10)\n",
      "/tmp/ipykernel_2202717/2182283565.py:21: UserWarning: No data for colormapping provided via 'c'. Parameters 'cmap' will be ignored\n",
      "  sc = plt.scatter(prpd_list[:,1], prpd_list[:,0],\n",
      "/media/mldadmin/home/s123mdg34_04/anaconda3/envs/FYP/lib/python3.8/site-packages/sklearn/cluster/_kmeans.py:1416: FutureWarning: The default value of `n_init` will change from 10 to 'auto' in 1.4. Set the value of `n_init` explicitly to suppress the warning\n",
      "  super()._check_params_vs_input(X, default_n_init=10)\n",
      "/tmp/ipykernel_2202717/2182283565.py:21: UserWarning: No data for colormapping provided via 'c'. Parameters 'cmap' will be ignored\n",
      "  sc = plt.scatter(prpd_list[:,1], prpd_list[:,0],\n",
      "/tmp/ipykernel_2202717/1772367912.py:13: RuntimeWarning: More than 20 figures have been opened. Figures created through the pyplot interface (`matplotlib.pyplot.figure`) are retained until explicitly closed and may consume too much memory. (To control this warning, see the rcParam `figure.max_open_warning`). Consider using `matplotlib.pyplot.close()`.\n",
      "  plt.figure(figsize=(3,2))\n",
      "/media/mldadmin/home/s123mdg34_04/anaconda3/envs/FYP/lib/python3.8/site-packages/sklearn/cluster/_kmeans.py:1416: FutureWarning: The default value of `n_init` will change from 10 to 'auto' in 1.4. Set the value of `n_init` explicitly to suppress the warning\n",
      "  super()._check_params_vs_input(X, default_n_init=10)\n",
      "/tmp/ipykernel_2202717/2182283565.py:21: UserWarning: No data for colormapping provided via 'c'. Parameters 'cmap' will be ignored\n",
      "  sc = plt.scatter(prpd_list[:,1], prpd_list[:,0],\n",
      "/media/mldadmin/home/s123mdg34_04/anaconda3/envs/FYP/lib/python3.8/site-packages/sklearn/cluster/_kmeans.py:1416: FutureWarning: The default value of `n_init` will change from 10 to 'auto' in 1.4. Set the value of `n_init` explicitly to suppress the warning\n",
      "  super()._check_params_vs_input(X, default_n_init=10)\n",
      "/tmp/ipykernel_2202717/2182283565.py:21: UserWarning: No data for colormapping provided via 'c'. Parameters 'cmap' will be ignored\n",
      "  sc = plt.scatter(prpd_list[:,1], prpd_list[:,0],\n"
     ]
    },
    {
     "data": {
      "text/plain": [
       "<Figure size 640x480 with 0 Axes>"
      ]
     },
     "metadata": {},
     "output_type": "display_data"
    },
    {
     "data": {
      "text/plain": [
       "<Figure size 300x200 with 0 Axes>"
      ]
     },
     "metadata": {},
     "output_type": "display_data"
    },
    {
     "data": {
      "text/plain": [
       "<Figure size 300x200 with 0 Axes>"
      ]
     },
     "metadata": {},
     "output_type": "display_data"
    },
    {
     "data": {
      "text/plain": [
       "<Figure size 300x200 with 0 Axes>"
      ]
     },
     "metadata": {},
     "output_type": "display_data"
    },
    {
     "data": {
      "text/plain": [
       "<Figure size 300x200 with 0 Axes>"
      ]
     },
     "metadata": {},
     "output_type": "display_data"
    },
    {
     "data": {
      "text/plain": [
       "<Figure size 300x200 with 0 Axes>"
      ]
     },
     "metadata": {},
     "output_type": "display_data"
    },
    {
     "data": {
      "text/plain": [
       "<Figure size 300x200 with 0 Axes>"
      ]
     },
     "metadata": {},
     "output_type": "display_data"
    },
    {
     "data": {
      "text/plain": [
       "<Figure size 300x200 with 0 Axes>"
      ]
     },
     "metadata": {},
     "output_type": "display_data"
    },
    {
     "data": {
      "text/plain": [
       "<Figure size 300x200 with 0 Axes>"
      ]
     },
     "metadata": {},
     "output_type": "display_data"
    },
    {
     "data": {
      "text/plain": [
       "<Figure size 300x200 with 0 Axes>"
      ]
     },
     "metadata": {},
     "output_type": "display_data"
    },
    {
     "data": {
      "text/plain": [
       "<Figure size 300x200 with 0 Axes>"
      ]
     },
     "metadata": {},
     "output_type": "display_data"
    },
    {
     "data": {
      "text/plain": [
       "<Figure size 300x200 with 0 Axes>"
      ]
     },
     "metadata": {},
     "output_type": "display_data"
    },
    {
     "data": {
      "text/plain": [
       "<Figure size 300x200 with 0 Axes>"
      ]
     },
     "metadata": {},
     "output_type": "display_data"
    },
    {
     "data": {
      "text/plain": [
       "<Figure size 300x200 with 0 Axes>"
      ]
     },
     "metadata": {},
     "output_type": "display_data"
    },
    {
     "data": {
      "text/plain": [
       "<Figure size 300x200 with 0 Axes>"
      ]
     },
     "metadata": {},
     "output_type": "display_data"
    },
    {
     "data": {
      "text/plain": [
       "<Figure size 300x200 with 0 Axes>"
      ]
     },
     "metadata": {},
     "output_type": "display_data"
    },
    {
     "data": {
      "text/plain": [
       "<Figure size 300x200 with 0 Axes>"
      ]
     },
     "metadata": {},
     "output_type": "display_data"
    },
    {
     "data": {
      "text/plain": [
       "<Figure size 300x200 with 0 Axes>"
      ]
     },
     "metadata": {},
     "output_type": "display_data"
    },
    {
     "data": {
      "text/plain": [
       "<Figure size 300x200 with 0 Axes>"
      ]
     },
     "metadata": {},
     "output_type": "display_data"
    },
    {
     "data": {
      "text/plain": [
       "<Figure size 300x200 with 0 Axes>"
      ]
     },
     "metadata": {},
     "output_type": "display_data"
    },
    {
     "data": {
      "text/plain": [
       "<Figure size 300x200 with 0 Axes>"
      ]
     },
     "metadata": {},
     "output_type": "display_data"
    },
    {
     "data": {
      "text/plain": [
       "<Figure size 300x200 with 0 Axes>"
      ]
     },
     "metadata": {},
     "output_type": "display_data"
    },
    {
     "data": {
      "image/png": "[encoded data removed]",
      "text/plain": [
       "<Figure size 300x200 with 1 Axes>"
      ]
     },
     "metadata": {},
     "output_type": "display_data"
    }
   ],
   "source": [
    "import glob\n",
    "cluster_num = 2\n",
    "for f1, f2 in zip(sorted(glob.glob(prpd_filepath)), \n",
    "                  sorted(glob.glob(waveform_filepath))):\n",
    "    \n",
    "    #prpd_filepath = f1\n",
    "    #waveform_filepath = f2\n",
    "\n",
    "    prpd_list, waveform_list = read_data(f1, f2)\n",
    "    max_ampl = np.max(np.abs(prpd_list[:,0]))\n",
    "    cluster_res, clusteridx = cluster_prpd(prpd_list, waveform_list, cluster_num)\n",
    "    for onecluster in cluster_res:\n",
    "        update_fig(onecluster['prpd'], max_ampl,f1)\n",
    "    f2=f2.replace(\".csv\",\"_idx.csv\")\n",
    "    f2=f2.replace(\"WaveForm/\",\"WaveForm_idx/\")\n",
    "    clusteridx = np.array(clusteridx, dtype=np.int32)\n",
    "    np.savetxt(f2,clusteridx,delimiter='\\tab')\n",
    "    update_waveform_fig(waveform_list,clusteridx,f2)\n",
    "\n",
    "    "
   ]
  },
  {
   "cell_type": "code",
   "execution_count": 20,
   "id": "f3c5ba36",
   "metadata": {},
   "outputs": [],
   "source": [
    "Path='/media/mldadmin/home/s123mdg34_04/WangShengyuan/FYP/data/noise/WaveForm'"
   ]
  },
  {
   "cell_type": "code",
   "execution_count": null,
   "id": "c0c95aa3",
   "metadata": {},
   "outputs": [],
   "source": []
  }
 ],
 "metadata": {
  "kernelspec": {
   "display_name": "Python 3",
   "language": "python",
   "name": "python3"
  },
  "language_info": {
   "codemirror_mode": {
    "name": "ipython",
    "version": 3
   },
   "file_extension": ".py",
   "mimetype": "text/x-python",
   "name": "python",
   "nbconvert_exporter": "python",
   "pygments_lexer": "ipython3",
   "version": "3.8.18"
  }
 },
 "nbformat": 4,
 "nbformat_minor": 5
}
