{
 "cells": [
  {
   "cell_type": "code",
   "execution_count": 1,
   "metadata": {},
   "outputs": [],
   "source": [
    "import os\n",
    "\n",
    "path = \"/media/mldadmin/home/s123mdg34_04/WangShengyuan/FYP/data/corona/prpd\"\n",
    "\n",
    "# Get all the files in the directory\n",
    "files = os.listdir(path)\n",
    "\n",
    "# Iterate over the files\n",
    "for file in files:\n",
    "    # Check if the file is a .png file\n",
    "    if file.endswith(\".png\"):\n",
    "        # Construct the file path\n",
    "        file_path = os.path.join(path, file)\n",
    "        # Delete the file\n",
    "        os.remove(file_path)\n"
   ]
  },
  {
   "cell_type": "code",
   "execution_count": null,
   "metadata": {},
   "outputs": [],
   "source": []
  }
 ],
 "metadata": {
  "kernelspec": {
   "display_name": "FYP",
   "language": "python",
   "name": "python3"
  },
  "language_info": {
   "codemirror_mode": {
    "name": "ipython",
    "version": 3
   },
   "file_extension": ".py",
   "mimetype": "text/x-python",
   "name": "python",
   "nbconvert_exporter": "python",
   "pygments_lexer": "ipython3",
   "version": "3.8.18"
  }
 },
 "nbformat": 4,
 "nbformat_minor": 2
}
