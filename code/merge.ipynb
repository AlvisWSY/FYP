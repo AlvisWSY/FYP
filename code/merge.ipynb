{
 "cells": [
  {
   "cell_type": "code",
   "execution_count": 3,
   "metadata": {},
   "outputs": [],
   "source": [
    "import pandas as pd\n",
    "import glob\n",
    "import os"
   ]
  },
  {
   "cell_type": "code",
   "execution_count": 4,
   "metadata": {},
   "outputs": [],
   "source": [
    "def merge_csv_files(path1, path2, output_path):\n",
    "    # 获取两个路径下的所有csv文件\n",
    "    files1 = glob.glob(os.path.join(path1, \"*.csv\"))\n",
    "    files2 = glob.glob(os.path.join(path2, \"*_idx.csv\"))\n",
    "\n",
    "    for file1 in files1:\n",
    "        # 找到匹配的文件\n",
    "        base_name = os.path.basename(file1)\n",
    "        matching_file = [f for f in files2 if f.startswith(os.path.join(path2, base_name[:-4]))]\n",
    "        if matching_file:\n",
    "            # 读取两个csv文件\n",
    "            df1 = pd.read_csv(file1, sep='\\t')\n",
    "            df2 = pd.read_csv(matching_file[0], header=None,names=['cluster'])\n",
    "\n",
    "            # 合并两个DataFrame\n",
    "            merged_df = pd.concat([df1, df2], axis=1)\n",
    "\n",
    "            # 保存新的csv文件\n",
    "            merged_df.to_csv(os.path.join(output_path, base_name[:-4] + \"_merged.csv\"), index=False)"
   ]
  },
  {
   "cell_type": "code",
   "execution_count": 6,
   "metadata": {},
   "outputs": [],
   "source": [
    "path1= '/media/mldadmin/home/s123mdg34_04/WangShengyuan/FYP/data/internal/WaveForm'\n",
    "path2= '/media/mldadmin/home/s123mdg34_04/WangShengyuan/FYP/Features/internal/K-Means/benchmark/benchmark_3/WaveForm_idx'\n",
    "output_path='/media/mldadmin/home/s123mdg34_04/WangShengyuan/FYP/data/internal/merged'\n",
    "\n",
    "merge_csv_files(path1,path2,output_path)"
   ]
  },
  {
   "cell_type": "code",
   "execution_count": null,
   "metadata": {},
   "outputs": [],
   "source": []
  }
 ],
 "metadata": {
  "kernelspec": {
   "display_name": "FYP",
   "language": "python",
   "name": "python3"
  },
  "language_info": {
   "codemirror_mode": {
    "name": "ipython",
    "version": 3
   },
   "file_extension": ".py",
   "mimetype": "text/x-python",
   "name": "python",
   "nbconvert_exporter": "python",
   "pygments_lexer": "ipython3",
   "version": "3.8.18"
  }
 },
 "nbformat": 4,
 "nbformat_minor": 2
}
