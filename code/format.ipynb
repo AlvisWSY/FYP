{
 "cells": [
  {
   "cell_type": "code",
   "execution_count": 2,
   "metadata": {},
   "outputs": [],
   "source": [
    "import os\n",
    "import pandas as pd\n",
    "\n",
    "def remove_cluster_column(path):\n",
    "    for root, dirs, files in os.walk(path):\n",
    "        for file in files:\n",
    "            if file.endswith('.csv'):\n",
    "                file_path = os.path.join(root, file)\n",
    "                df = pd.read_csv(file_path)\n",
    "                if 'cluster' in df.columns:\n",
    "                    df = df.drop('cluster', axis=1)\n",
    "                    df.to_csv(file_path, index=False)\n",
    "\n",
    "path='/media/mldadmin/home/s123mdg34_04/WangShengyuan/FYP/data/internal/cleaned'\n",
    "remove_cluster_column(path)"
   ]
  },
  {
   "cell_type": "code",
   "execution_count": 4,
   "metadata": {},
   "outputs": [],
   "source": [
    "import os\n",
    "import pandas as pd\n",
    "\n",
    "directory = '/media/mldadmin/home/s123mdg34_04/WangShengyuan/FYP/dataset/noise'\n",
    "\n",
    "# get all files in the directory\n",
    "files = os.listdir(directory)\n",
    "\n",
    "# iterate over all files\n",
    "for file in files:\n",
    "    if file.endswith('.csv'):\n",
    "        # read the file\n",
    "        df = pd.read_csv(os.path.join(directory, file), sep=',')\n",
    "        # change the separator\n",
    "        df.to_csv(os.path.join(directory, file), sep='\\t', index=False)"
   ]
  },
  {
   "cell_type": "code",
   "execution_count": null,
   "metadata": {},
   "outputs": [],
   "source": []
  }
 ],
 "metadata": {
  "kernelspec": {
   "display_name": "FYP",
   "language": "python",
   "name": "python3"
  },
  "language_info": {
   "codemirror_mode": {
    "name": "ipython",
    "version": 3
   },
   "file_extension": ".py",
   "mimetype": "text/x-python",
   "name": "python",
   "nbconvert_exporter": "python",
   "pygments_lexer": "ipython3",
   "version": "3.8.18"
  }
 },
 "nbformat": 4,
 "nbformat_minor": 2
}
