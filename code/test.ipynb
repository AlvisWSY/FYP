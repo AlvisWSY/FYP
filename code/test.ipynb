{
 "cells": [
  {
   "cell_type": "code",
   "execution_count": 7,
   "metadata": {},
   "outputs": [],
   "source": [
    "import os\n",
    "import pandas as pd\n",
    "\n",
    "root_path = \"../rawdata/internal\"\n",
    "output_path = \"../data/prpd/internal\"\n",
    "\n",
    "for subdir in os.listdir(root_path):\n",
    "    if subdir.startswith('.'):\n",
    "        continue\n",
    "    subdir_path = os.path.join(root_path, subdir)\n",
    "    # Split directory name to determine category\n",
    "    category_parts = subdir.split(\"_\")\n",
    "    trigger = category_parts[3]\n",
    "    gain = category_parts[5].split(\"dB\")[0]\n",
    "    type_list = \"_\".join(category_parts[8:])\n",
    "    category = f\"Trigger_{trigger}_Gain_{gain}dB_type_list_{type_list}\"\n",
    "\n",
    "    # Read prpd.txt file\n",
    "    prpd_file = os.path.join(subdir_path, \"prpd.txt\")\n",
    "    if not os.path.exists(prpd_file):  # Check if the file exists\n",
    "        print(f\"Skipping directory {subdir} because prpd.txt does not exist\")\n",
    "        continue\n",
    "\n",
    "    with open(prpd_file, \"r\") as file:\n",
    "        lines = file.readlines()\n",
    "\n",
    "    # Remove first element from each line\n",
    "    modified_lines = [line.split()[1:] for line in lines]\n",
    "\n",
    "    # Concatenate modified data\n",
    "    concatenated_data = \"\\n\".join([\" \".join(line) for line in modified_lines])\n",
    "\n",
    "    # Save as CSV file\n",
    "    output_file = os.path.join(output_path, f\"{category}.csv\")\n",
    "    with open(output_file, \"w\") as file:\n",
    "        file.write(concatenated_data)"
   ]
  },
  {
   "cell_type": "code",
   "execution_count": null,
   "metadata": {},
   "outputs": [],
   "source": []
  }
 ],
 "metadata": {
  "kernelspec": {
   "display_name": "FYP",
   "language": "python",
   "name": "python3"
  },
  "language_info": {
   "codemirror_mode": {
    "name": "ipython",
    "version": 3
   },
   "file_extension": ".py",
   "mimetype": "text/x-python",
   "name": "python",
   "nbconvert_exporter": "python",
   "pygments_lexer": "ipython3",
   "version": "3.8.18"
  }
 },
 "nbformat": 4,
 "nbformat_minor": 2
}
