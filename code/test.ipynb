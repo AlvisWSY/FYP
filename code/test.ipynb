{
 "cells": [
  {
   "cell_type": "markdown",
   "metadata": {},
   "source": [
    "# Libraries"
   ]
  },
  {
   "cell_type": "code",
   "execution_count": 26,
   "metadata": {},
   "outputs": [],
   "source": [
    "# -*- coding: utf-8 -*-\n",
    "import pandas as pd\n",
    "import torch\n",
    "import torch.nn as nn\n",
    "from torchsummary import summary\n",
    "from torchinfo import summary as summary2\n",
    "from torch.utils.data import Dataset, DataLoader\n",
    "from sklearn.preprocessing import LabelEncoder\n",
    "from torch.utils.data.dataset import random_split\n",
    "import numpy as np\n",
    "import os\n",
    "import random\n",
    "import matplotlib.pyplot as plt\n",
    "import pickle as pickle\n",
    "from sklearn.metrics import confusion_matrix\n",
    "from sklearn.metrics import roc_curve, auc\n",
    "from sklearn.preprocessing import StandardScaler\n",
    "from sklearn import svm\n",
    "from itertools import cycle\n",
    "\n",
    "\n",
    "colors = cycle(\"bgrcmykbgrcmykbgrcmykbgrcmyk\")"
   ]
  },
  {
   "cell_type": "markdown",
   "metadata": {},
   "source": [
    "# Seed"
   ]
  },
  {
   "cell_type": "code",
   "execution_count": 2,
   "metadata": {},
   "outputs": [],
   "source": [
    "#########################################################################################\n",
    "#set the seed for random environment\n",
    "#here we set the seed to 42\n",
    "#########################################################################################\n",
    "def seed_everything(seed=42):\n",
    "    np.random.seed(seed)\n",
    "    random.seed(seed)\n",
    "    os.environ['PYTHONHASHSEED'] = str(seed)\n",
    "    \n",
    "#when import the module the seed is set\n",
    "seed_everything()"
   ]
  },
  {
   "cell_type": "code",
   "execution_count": 10,
   "metadata": {},
   "outputs": [],
   "source": [
    "batch_size = 64\n",
    "device = torch.device('cuda:0' if torch.cuda.is_available() else 'cpu')\n"
   ]
  },
  {
   "cell_type": "markdown",
   "metadata": {},
   "source": [
    "# DATA Preparation"
   ]
  },
  {
   "cell_type": "markdown",
   "metadata": {},
   "source": [
    "## FCN"
   ]
  },
  {
   "cell_type": "markdown",
   "metadata": {},
   "source": [
    "### FCN Dataset Preparation "
   ]
  },
  {
   "cell_type": "code",
   "execution_count": 5,
   "metadata": {},
   "outputs": [],
   "source": [
    "class WaveFormDataset(Dataset):\n",
    "    def __init__(self, root_dir):\n",
    "        \"\"\"\n",
    "        root_dir: root directory of the dataset\n",
    "        \"\"\"\n",
    "        self.samples = []\n",
    "        self.labels = []\n",
    "\n",
    "        # find all CSV files in the root directory\n",
    "        for label in ['noise', 'internal', 'corona']:\n",
    "            data_dir = os.path.join(root_dir, label)\n",
    "            for file in os.listdir(data_dir):\n",
    "                file_path = os.path.join(data_dir, file)\n",
    "                if file.endswith('.csv'):\n",
    "                    # read the CSV file\n",
    "                    data = pd.read_csv(file_path, header=None, skiprows=1, sep='[,\\t]', engine='python').values\n",
    "                    # append each row as a sample\n",
    "                    for row in data:\n",
    "                        self.samples.append(row.astype(np.float32))\n",
    "                        self.labels.append(label)\n",
    "        \n",
    "        # convert labels to integers\n",
    "        self.label_encoder = LabelEncoder()\n",
    "        self.labels = self.label_encoder.fit_transform(self.labels)\n",
    "\n",
    "    def __len__(self):\n",
    "        return len(self.samples)\n",
    "\n",
    "    def __getitem__(self, idx):\n",
    "        # return the sample and its label\n",
    "        sample = self.samples[idx]\n",
    "        sample = torch.tensor(sample, dtype=torch.float32)\n",
    "        label = self.labels[idx]\n",
    "        label = torch.tensor(label, dtype=torch.float32)\n",
    "        return sample, label\n",
    "\n",
    "\n",
    "root_dir = '/media/mldadmin/home/s123mdg34_04/WangShengyuan/FYP/dataset' \n",
    "WaveForm = WaveFormDataset(root_dir=root_dir)\n"
   ]
  },
  {
   "cell_type": "code",
   "execution_count": 6,
   "metadata": {},
   "outputs": [],
   "source": [
    "dataset_size = len(WaveForm)\n",
    "train_size = int(dataset_size * 0.7) # 70% data for training\n",
    "val_size = int(dataset_size * 0.15) # 15% data for validation\n",
    "test_size = dataset_size - train_size - val_size # 15% data for testing\n",
    "\n",
    "train_dataset, val_dataset, test_dataset = random_split(WaveForm, [train_size, val_size, test_size])\n"
   ]
  },
  {
   "cell_type": "markdown",
   "metadata": {},
   "source": [
    "### FCN DataLoader "
   ]
  },
  {
   "cell_type": "code",
   "execution_count": 7,
   "metadata": {},
   "outputs": [],
   "source": [
    "train_loader = DataLoader(train_dataset, batch_size, shuffle=True)\n",
    "val_loader = DataLoader(val_dataset, batch_size, shuffle=False)\n",
    "test_loader = DataLoader(test_dataset, batch_size, shuffle=False)"
   ]
  },
  {
   "cell_type": "code",
   "execution_count": 36,
   "metadata": {},
   "outputs": [
    {
     "name": "stdout",
     "output_type": "stream",
     "text": [
      "torch.Size([64, 256])\n"
     ]
    }
   ],
   "source": [
    "for data, label in train_loader:\n",
    "    print (data.shape)\n",
    "    break"
   ]
  },
  {
   "cell_type": "markdown",
   "metadata": {},
   "source": [
    "## CNN"
   ]
  },
  {
   "cell_type": "markdown",
   "metadata": {},
   "source": [
    "### CNN Dataset Preparation"
   ]
  },
  {
   "cell_type": "code",
   "execution_count": 9,
   "metadata": {},
   "outputs": [],
   "source": [
    "class WaveFormDataset(Dataset):\n",
    "    def __init__(self, root_dir):\n",
    "        \"\"\"\n",
    "        root_dir: dataset root directory\n",
    "        \"\"\"\n",
    "        self.samples = []\n",
    "        self.labels = []\n",
    "\n",
    "        for label in ['noise', 'internal', 'corona']:\n",
    "            data_dir = os.path.join(root_dir, label)\n",
    "            for file in os.listdir(data_dir):\n",
    "                file_path = os.path.join(data_dir, file)\n",
    "                if file.endswith('.csv'):\n",
    "                    # read the CSV file\n",
    "                    data = pd.read_csv(file_path, header=None, skiprows=1, sep='[,\\t]', engine='python').values\n",
    "                    # append each row as a sample\n",
    "                    for row in data:\n",
    "                        self.samples.append(row.astype(np.float32))\n",
    "                        self.labels.append(label)\n",
    "        \n",
    "        # convert labels to integers\n",
    "        self.label_encoder = LabelEncoder()\n",
    "        self.labels = self.label_encoder.fit_transform(self.labels)\n",
    "\n",
    "\n",
    "    def __len__(self):\n",
    "        return len(self.samples)\n",
    "\n",
    "    def __getitem__(self, idx):\n",
    "        # return the sample and its label\n",
    "        sample = self.samples[idx]\n",
    "        sample = torch.tensor(sample, dtype=torch.float32)\n",
    "        sample = sample.unsqueeze(0) # add channel dimension\n",
    "        label = self.labels[idx]\n",
    "        # convert label to one-hot encoding\n",
    "        if label == 0:\n",
    "            label = torch.tensor([1, 0, 0], dtype=torch.float32)\n",
    "        elif label == 1:\n",
    "            label = torch.tensor([0, 1, 0], dtype=torch.float32)\n",
    "        else:\n",
    "            label = torch.tensor([0, 0, 1], dtype=torch.float32)\n",
    "            \n",
    "        #label = torch.tensor(label, dtype=torch.float32)\n",
    "        return sample, label\n",
    "\n",
    "root_dir = '/media/mldadmin/home/s123mdg34_04/WangShengyuan/FYP/dataset' \n",
    "CNN_WaveForm = WaveFormDataset(root_dir=root_dir)\n"
   ]
  },
  {
   "cell_type": "code",
   "execution_count": 10,
   "metadata": {},
   "outputs": [],
   "source": [
    "CNN_dataset_size = len(CNN_WaveForm)\n",
    "CNN_train_size = int(CNN_dataset_size * 0.7) # 70% \n",
    "CNN_val_size = int(CNN_dataset_size * 0.15) # 15% \n",
    "CNN_test_size = CNN_dataset_size - CNN_train_size - CNN_val_size # 15% \n",
    "\n",
    "CNN_train_dataset, CNN_val_dataset, CNN_test_dataset = random_split(CNN_WaveForm, [CNN_train_size, CNN_val_size, CNN_test_size])\n"
   ]
  },
  {
   "cell_type": "code",
   "execution_count": 11,
   "metadata": {},
   "outputs": [
    {
     "name": "stdout",
     "output_type": "stream",
     "text": [
      "torch.Size([1, 256]) tensor([0., 0., 1.])\n"
     ]
    }
   ],
   "source": [
    "for i, data in enumerate(CNN_train_dataset):\n",
    "    sample, label = data\n",
    "    print(sample.shape, label)\n",
    "    break"
   ]
  },
  {
   "cell_type": "markdown",
   "metadata": {},
   "source": [
    "### CNN DataLoader"
   ]
  },
  {
   "cell_type": "code",
   "execution_count": 12,
   "metadata": {},
   "outputs": [],
   "source": [
    "CNN_train_loader = DataLoader(CNN_train_dataset, batch_size, shuffle=True)\n",
    "CNN_val_loader = DataLoader(CNN_val_dataset, batch_size, shuffle=False)\n",
    "CNN_test_loader = DataLoader(CNN_test_dataset, batch_size, shuffle=False)"
   ]
  },
  {
   "cell_type": "code",
   "execution_count": 13,
   "metadata": {},
   "outputs": [
    {
     "name": "stdout",
     "output_type": "stream",
     "text": [
      "torch.Size([64, 1, 256]) torch.Size([64, 3])\n"
     ]
    }
   ],
   "source": [
    "for data, label in CNN_train_loader:\n",
    "    print(data.shape, label.shape)\n",
    "    break"
   ]
  },
  {
   "cell_type": "markdown",
   "metadata": {},
   "source": [
    "## RNN"
   ]
  },
  {
   "cell_type": "markdown",
   "metadata": {},
   "source": [
    "### RNN Dataset Preparation"
   ]
  },
  {
   "cell_type": "code",
   "execution_count": 4,
   "metadata": {},
   "outputs": [],
   "source": [
    "class RNN_Dataset(Dataset):\n",
    "    def __init__(self, root_dir):\n",
    "        \"\"\"\n",
    "        root_dir: root directory of the dataset\n",
    "        \"\"\"\n",
    "        self.samples = []\n",
    "        self.labels = []\n",
    "\n",
    "        # find all CSV files in the root directory\n",
    "        for label in ['noise', 'internal', 'corona']:\n",
    "            data_dir = os.path.join(root_dir, label)\n",
    "            for file in os.listdir(data_dir):\n",
    "                file_path = os.path.join(data_dir, file)\n",
    "                if file.endswith('.csv'):\n",
    "                    # read the CSV file\n",
    "                    data = pd.read_csv(file_path, header=None, skiprows=1, sep='[,\\t]', engine='python').values\n",
    "                    # append each row as a sample\n",
    "                    for row in data:\n",
    "                        self.samples.append(row.astype(np.float32))\n",
    "                        self.labels.append(label)\n",
    "        \n",
    "        # convert labels to integers\n",
    "        self.label_encoder = LabelEncoder()\n",
    "        self.labels = self.label_encoder.fit_transform(self.labels)\n",
    "\n",
    "    def __len__(self):\n",
    "        return len(self.samples)\n",
    "\n",
    "    def __getitem__(self, idx):\n",
    "        # return the sample and its label\n",
    "        sample = self.samples[idx]\n",
    "        sample = torch.tensor(sample, dtype=torch.float32)\n",
    "        sample = sample.unsqueeze(-1) # convert shape to [64, 256, 1]\n",
    "        label = self.labels[idx]\n",
    "        label = torch.tensor(label, dtype=torch.float32)\n",
    "        return sample, label\n",
    "\n",
    "root_dir = '/media/mldadmin/home/s123mdg34_04/WangShengyuan/FYP/dataset' \n",
    "RNN_WaveForm = RNN_Dataset(root_dir=root_dir)\n"
   ]
  },
  {
   "cell_type": "code",
   "execution_count": 5,
   "metadata": {},
   "outputs": [],
   "source": [
    "dataset_size = len(RNN_WaveForm)\n",
    "train_size = int(dataset_size * 0.7) \n",
    "val_size = int(dataset_size * 0.15)\n",
    "test_size = dataset_size - train_size - val_size \n",
    "\n",
    "RNN_train_dataset, RNN_val_dataset, RNN_test_dataset = random_split(RNN_WaveForm, [train_size, val_size, test_size])"
   ]
  },
  {
   "cell_type": "markdown",
   "metadata": {},
   "source": [
    "### RNN DataLoader"
   ]
  },
  {
   "cell_type": "code",
   "execution_count": 6,
   "metadata": {},
   "outputs": [],
   "source": [
    "RNN_train_loader = DataLoader(RNN_train_dataset, batch_size, shuffle=True)\n",
    "RNN_val_loader = DataLoader(RNN_val_dataset, batch_size, shuffle=False)\n",
    "RNN_test_loader = DataLoader(RNN_test_dataset, batch_size, shuffle=False)"
   ]
  },
  {
   "cell_type": "code",
   "execution_count": 7,
   "metadata": {},
   "outputs": [
    {
     "name": "stdout",
     "output_type": "stream",
     "text": [
      "torch.Size([64, 256, 1])\n"
     ]
    }
   ],
   "source": [
    "for data, label in RNN_train_loader:\n",
    "    print (data.shape)\n",
    "    break"
   ]
  },
  {
   "cell_type": "markdown",
   "metadata": {},
   "source": [
    "# Model"
   ]
  },
  {
   "cell_type": "markdown",
   "metadata": {},
   "source": [
    "## FCN"
   ]
  },
  {
   "cell_type": "code",
   "execution_count": 15,
   "metadata": {},
   "outputs": [],
   "source": [
    "# Define the FCN model\n",
    "class FourLayerFCN(nn.Module):\n",
    "    def __init__(self, input_size, hidden_size, num_classes):\n",
    "        super(FourLayerFCN, self).__init__()\n",
    "        self.fc1 = nn.Linear(input_size, hidden_size)\n",
    "        self.bn1 = nn.BatchNorm1d(hidden_size)\n",
    "\n",
    "        self.fc2 = nn.Linear(hidden_size, hidden_size)\n",
    "        self.bn2 = nn.BatchNorm1d(hidden_size)\n",
    "\n",
    "        self.fc3 = nn.Linear(hidden_size, hidden_size)\n",
    "        self.bn3 = nn.BatchNorm1d(hidden_size)\n",
    "\n",
    "        self.fc4 = nn.Linear(hidden_size, num_classes)\n",
    "        self.relu = nn.ReLU()\n",
    "        self.dropout = nn.Dropout(0.5)  # add dropout layer with 50% probability\n",
    "    \n",
    "    def forward(self, x):\n",
    "        x = self.relu(self.bn1(self.fc1(x)))\n",
    "        x = self.dropout(x)  \n",
    "        x = self.relu(self.bn2(self.fc2(x)))\n",
    "        x = self.dropout(x)  \n",
    "        x = self.relu(self.bn3(self.fc3(x)))\n",
    "        x = self.dropout(x)  \n",
    "        x = self.fc4(x)\n",
    "        return x"
   ]
  },
  {
   "cell_type": "code",
   "execution_count": 16,
   "metadata": {},
   "outputs": [],
   "source": [
    "# Define the input size, hidden size, and number of classes\n",
    "input_size = len(train_loader.dataset[0][0])\n",
    "hidden_size = 128\n",
    "num_classes = 3"
   ]
  },
  {
   "cell_type": "code",
   "execution_count": 17,
   "metadata": {},
   "outputs": [],
   "source": [
    "# Create an instance of the FourLayerFCN model\n",
    "model = FourLayerFCN(input_size, hidden_size, num_classes)\n",
    "model = model.to(device)"
   ]
  },
  {
   "cell_type": "code",
   "execution_count": 18,
   "metadata": {},
   "outputs": [
    {
     "name": "stdout",
     "output_type": "stream",
     "text": [
      "----------------------------------------------------------------\n",
      "        Layer (type)               Output Shape         Param #\n",
      "================================================================\n",
      "            Linear-1                  [-1, 128]          32,896\n",
      "       BatchNorm1d-2                  [-1, 128]             256\n",
      "              ReLU-3                  [-1, 128]               0\n",
      "           Dropout-4                  [-1, 128]               0\n",
      "            Linear-5                  [-1, 128]          16,512\n",
      "       BatchNorm1d-6                  [-1, 128]             256\n",
      "              ReLU-7                  [-1, 128]               0\n",
      "           Dropout-8                  [-1, 128]               0\n",
      "            Linear-9                  [-1, 128]          16,512\n",
      "      BatchNorm1d-10                  [-1, 128]             256\n",
      "             ReLU-11                  [-1, 128]               0\n",
      "          Dropout-12                  [-1, 128]               0\n",
      "           Linear-13                    [-1, 3]             387\n",
      "================================================================\n",
      "Total params: 67,075\n",
      "Trainable params: 67,075\n",
      "Non-trainable params: 0\n",
      "----------------------------------------------------------------\n",
      "Input size (MB): 0.00\n",
      "Forward/backward pass size (MB): 0.01\n",
      "Params size (MB): 0.26\n",
      "Estimated Total Size (MB): 0.27\n",
      "----------------------------------------------------------------\n"
     ]
    }
   ],
   "source": [
    "# Print the model architecture\n",
    "summary(model, (input_size,))"
   ]
  },
  {
   "cell_type": "code",
   "execution_count": 20,
   "metadata": {},
   "outputs": [],
   "source": [
    "# Define the training function\n",
    "def FCNtrain(model, train_loader, val_loader, num_epochs, criterion, optimizer):\n",
    "    # Training loop\n",
    "    total_loss = 0\n",
    "    total_samples = 0\n",
    "    total_correct = 0\n",
    "    train_losses = []\n",
    "    val_losses = []\n",
    "    for epoch in range(num_epochs):\n",
    "        model.train()\n",
    "        for i, (samples, labels) in enumerate(train_loader):\n",
    "            samples = samples.to(device)\n",
    "            labels = labels.to(device)\n",
    "            # Forward pass\n",
    "            outputs = model(samples)\n",
    "            loss = criterion(outputs, labels.long())\n",
    "            \n",
    "            # Backward pass\n",
    "            optimizer.zero_grad()\n",
    "            loss.backward()\n",
    "            optimizer.step()\n",
    "            # Statistics\n",
    "            total_loss += loss.item()\n",
    "            total_samples += labels.size(0)\n",
    "            _, predicted = torch.max(outputs, 1)\n",
    "            total_correct += (predicted == labels).sum().item()\n",
    "        train_loss = total_loss / total_samples\n",
    "        train_losses.append(train_loss)\n",
    "        # Validation\n",
    "        model.eval()\n",
    "        with torch.no_grad():\n",
    "            total_loss = 0\n",
    "            total_samples = 0\n",
    "            total_correct = 0\n",
    "            for i, (samples, labels) in enumerate(val_loader):\n",
    "                samples = samples.to(device)\n",
    "                labels = labels.to(device)\n",
    "                # Forward pass\n",
    "                outputs = model(samples)\n",
    "                loss = criterion(outputs, labels.long())\n",
    "                # Statistics\n",
    "                total_loss += loss.item()\n",
    "                total_samples += labels.size(0)\n",
    "                _, predicted = torch.max(outputs, 1)\n",
    "                total_correct += (predicted == labels).sum().item()\n",
    "            val_loss = total_loss / total_samples\n",
    "            val_losses.append(val_loss)\n",
    "            print(f'Epoch [{epoch+1}/{num_epochs}], '\n",
    "                  f'Train Loss: {train_loss:.4f}, '\n",
    "                  f'Val Loss: {val_loss:.4f}')\n",
    "        torch.save({\n",
    "        'epoch': epoch,\n",
    "        'model_state_dict': model.state_dict(),\n",
    "        'optimizer_state_dict': optimizer.state_dict(),\n",
    "        'loss': loss,\n",
    "    }, f'/media/mldadmin/home/s123mdg34_04/WangShengyuan/FYP/checkpoint/FCN/checkpoint_{epoch}.pth')\n",
    "\n",
    "    return train_losses, val_losses"
   ]
  },
  {
   "cell_type": "code",
   "execution_count": 19,
   "metadata": {},
   "outputs": [],
   "source": [
    "# Define the loss function and optimizer\n",
    "criterion = nn.CrossEntropyLoss(weight=torch.tensor([0.5949, 1.0, 0.946]).to(device))\n",
    "\n",
    "# Define the optimizer\n",
    "optimizer = torch.optim.Adam(model.parameters(), lr=5e-4)"
   ]
  },
  {
   "cell_type": "code",
   "execution_count": 21,
   "metadata": {},
   "outputs": [
    {
     "name": "stdout",
     "output_type": "stream",
     "text": [
      "Epoch [1/10], Train Loss: 0.0007, Val Loss: 0.0001\n",
      "Epoch [2/10], Train Loss: 0.0002, Val Loss: 0.0000\n",
      "Epoch [3/10], Train Loss: 0.0001, Val Loss: 0.0000\n",
      "Epoch [4/10], Train Loss: 0.0001, Val Loss: 0.0000\n",
      "Epoch [5/10], Train Loss: 0.0001, Val Loss: 0.0000\n",
      "Epoch [6/10], Train Loss: 0.0000, Val Loss: 0.0000\n",
      "Epoch [7/10], Train Loss: 0.0000, Val Loss: 0.0000\n",
      "Epoch [8/10], Train Loss: 0.0000, Val Loss: 0.0000\n",
      "Epoch [9/10], Train Loss: 0.0000, Val Loss: 0.0000\n",
      "Epoch [10/10], Train Loss: 0.0000, Val Loss: 0.0000\n"
     ]
    }
   ],
   "source": [
    "# Train the model\n",
    "num_epochs = 10\n",
    "train_losses, val_losses = FCNtrain(model, train_loader, val_loader, num_epochs, criterion, optimizer)"
   ]
  },
  {
   "cell_type": "code",
   "execution_count": 22,
   "metadata": {},
   "outputs": [
    {
     "data": {
      "image/png": "[encoded data removed]",
      "text/plain": [
       "<Figure size 640x480 with 1 Axes>"
      ]
     },
     "metadata": {},
     "output_type": "display_data"
    }
   ],
   "source": [
    "# Plot the training and validation losses\n",
    "plt.plot(train_losses, label='Train Loss')\n",
    "plt.plot(val_losses, label='Val Loss')\n",
    "plt.xlabel('Epoch')\n",
    "plt.ylabel('Loss')\n",
    "plt.legend(title='LR=5e-4')\n",
    "plt.show()"
   ]
  },
  {
   "cell_type": "code",
   "execution_count": 23,
   "metadata": {},
   "outputs": [
    {
     "name": "stdout",
     "output_type": "stream",
     "text": [
      "Test Accuracy: 0.9996\n"
     ]
    }
   ],
   "source": [
    "model.eval()\n",
    "total_samples = 0\n",
    "total_correct = 0\n",
    "with torch.no_grad():\n",
    "    for samples, labels in test_loader:\n",
    "        samples = samples.to(device)\n",
    "        labels = labels.to(device)\n",
    "        # Forward pass\n",
    "        outputs = model(samples)\n",
    "        _, predicted = torch.max(outputs, 1)\n",
    "        total_samples += labels.size(0)\n",
    "        total_correct += (predicted == labels).sum().item()\n",
    "\n",
    "test_accuracy = total_correct / total_samples\n",
    "print(f'Test Accuracy: {test_accuracy:.4f}')"
   ]
  },
  {
   "cell_type": "markdown",
   "metadata": {},
   "source": [
    "## CNN"
   ]
  },
  {
   "cell_type": "code",
   "execution_count": 24,
   "metadata": {},
   "outputs": [],
   "source": [
    "# Define the CNN model\n",
    "class FourLayerCNN(nn.Module):\n",
    "    def __init__(self, batch_size, num_classes):\n",
    "        super(FourLayerCNN, self).__init__()\n",
    "        self.conv1 = nn.Conv1d(in_channels=1, out_channels=64, kernel_size=6, stride=2, padding=2)\n",
    "        self.bn1 = nn.BatchNorm1d(64)\n",
    "\n",
    "        self.conv2 = nn.Conv1d(in_channels=64, out_channels=128, kernel_size=6, stride=2, padding=2)\n",
    "        self.bn2 = nn.BatchNorm1d(128)\n",
    "\n",
    "        self.conv3 = nn.Conv1d(in_channels=128, out_channels=256, kernel_size=6, stride=2, padding=2)\n",
    "        self.bn3 = nn.BatchNorm1d(256)\n",
    "\n",
    "        self.conv4 = nn.Conv1d(in_channels=256, out_channels=256, kernel_size=6, stride=2, padding=2)\n",
    "        self.bn4 = nn.BatchNorm1d(256)\n",
    "\n",
    "        self.Pool = nn.AvgPool1d(kernel_size=16, stride=1)\n",
    "\n",
    "        self.relu = nn.ReLU()\n",
    "        self.fc5 = nn.Linear(256, num_classes)\n",
    "    \n",
    "    def forward(self, x):\n",
    "        x = self.relu(self.bn1(self.conv1(x)))\n",
    "        x = self.relu(self.bn2(self.conv2(x)))\n",
    "        x = self.relu(self.bn3(self.conv3(x)))\n",
    "        x = self.relu(self.bn4(self.conv4(x)))\n",
    "        x = self.Pool(x)\n",
    "        \n",
    "        x = self.fc5(x.view(x.size(0), -1))\n",
    "        #x = torch.argmax(x, 1)\n",
    "        #x = torch.tensor(x, dtype=torch.float32)\n",
    "        #x = x.squeeze(1)\n",
    "        \n",
    "        return x"
   ]
  },
  {
   "cell_type": "code",
   "execution_count": 25,
   "metadata": {},
   "outputs": [],
   "source": [
    "num_classes = 3"
   ]
  },
  {
   "cell_type": "code",
   "execution_count": 26,
   "metadata": {},
   "outputs": [],
   "source": [
    "device = torch.device('cuda:0' if torch.cuda.is_available() else 'cpu')\n",
    "\n",
    "# Create an instance of the FourLayerCNN model\n",
    "CNN_model = FourLayerCNN(batch_size,num_classes)\n",
    "CNN_model = CNN_model.to(device)"
   ]
  },
  {
   "cell_type": "code",
   "execution_count": 27,
   "metadata": {},
   "outputs": [
    {
     "name": "stdout",
     "output_type": "stream",
     "text": [
      "----------------------------------------------------------------\n",
      "        Layer (type)               Output Shape         Param #\n",
      "================================================================\n",
      "            Conv1d-1              [-1, 64, 128]             448\n",
      "       BatchNorm1d-2              [-1, 64, 128]             128\n",
      "              ReLU-3              [-1, 64, 128]               0\n",
      "            Conv1d-4              [-1, 128, 64]          49,280\n",
      "       BatchNorm1d-5              [-1, 128, 64]             256\n",
      "              ReLU-6              [-1, 128, 64]               0\n",
      "            Conv1d-7              [-1, 256, 32]         196,864\n",
      "       BatchNorm1d-8              [-1, 256, 32]             512\n",
      "              ReLU-9              [-1, 256, 32]               0\n",
      "           Conv1d-10              [-1, 256, 16]         393,472\n",
      "      BatchNorm1d-11              [-1, 256, 16]             512\n",
      "             ReLU-12              [-1, 256, 16]               0\n",
      "        AvgPool1d-13               [-1, 256, 1]               0\n",
      "           Linear-14                    [-1, 3]             771\n",
      "================================================================\n",
      "Total params: 642,243\n",
      "Trainable params: 642,243\n",
      "Non-trainable params: 0\n",
      "----------------------------------------------------------------\n",
      "Input size (MB): 0.00\n",
      "Forward/backward pass size (MB): 0.66\n",
      "Params size (MB): 2.45\n",
      "Estimated Total Size (MB): 3.11\n",
      "----------------------------------------------------------------\n"
     ]
    }
   ],
   "source": [
    "# Print the model architecture\n",
    "summary(CNN_model, (1,256))"
   ]
  },
  {
   "cell_type": "code",
   "execution_count": 29,
   "metadata": {},
   "outputs": [],
   "source": [
    "# Define the training function\n",
    "def CNNtrain(model, train_loader, val_loader, num_epochs, criterion, optimizer):\n",
    "    # Training loop\n",
    "    total_loss = 0\n",
    "    total_samples = 0\n",
    "    total_correct = 0\n",
    "    train_losses = []\n",
    "    val_losses = []\n",
    "    for epoch in range(num_epochs):\n",
    "        model.train()\n",
    "        for i, (samples, labels) in enumerate(train_loader):\n",
    "            samples = samples.to(device)\n",
    "            labels = labels.to(device)\n",
    "            # Forward pass\n",
    "            outputs = model(samples)\n",
    "            loss = criterion(outputs, labels)\n",
    "            \n",
    "            # Backward pass\n",
    "            optimizer.zero_grad()\n",
    "            loss.backward()\n",
    "            optimizer.step()\n",
    "            # Statistics\n",
    "            total_loss += loss.item()\n",
    "            total_samples += labels.size(0)\n",
    "            _, predicted = torch.max(outputs, 1)\n",
    "            _, labels = torch.max(labels, 1)\n",
    "            total_correct += (predicted == labels).sum().item()\n",
    "        train_loss = total_loss / total_samples\n",
    "        train_losses.append(train_loss)\n",
    "        # Validation\n",
    "        model.eval()\n",
    "        with torch.no_grad():\n",
    "            total_loss = 0\n",
    "            total_samples = 0\n",
    "            total_correct = 0\n",
    "            for i, (samples, labels) in enumerate(val_loader):\n",
    "                samples = samples.to(device)\n",
    "                labels = labels.to(device)\n",
    "                # Forward pass\n",
    "                outputs = model(samples)\n",
    "                loss = criterion(outputs, labels)\n",
    "                # Statistics\n",
    "                total_loss += loss.item()\n",
    "                total_samples += labels.size(0)\n",
    "                _, predicted = torch.max(outputs, 1)\n",
    "                _, labels = torch.max(labels, 1)\n",
    "                total_correct += (predicted == labels).sum().item()\n",
    "            val_loss = total_loss / total_samples\n",
    "            val_losses.append(val_loss)\n",
    "            print(f'Epoch [{epoch+1}/{num_epochs}], '\n",
    "                  f'Train Loss: {train_loss:.4f}, '\n",
    "                  f'Val Loss: {val_loss:.4f}')\n",
    "        torch.save({\n",
    "        'epoch': epoch,\n",
    "        'model_state_dict': model.state_dict(),\n",
    "        'optimizer_state_dict': optimizer.state_dict(),\n",
    "        'loss': loss,\n",
    "    }, f'/media/mldadmin/home/s123mdg34_04/WangShengyuan/FYP/checkpoint/FCN/checkpoint_{epoch}.pth')\n",
    "\n",
    "    return train_losses, val_losses"
   ]
  },
  {
   "cell_type": "code",
   "execution_count": 28,
   "metadata": {},
   "outputs": [],
   "source": [
    "# Define the loss function and optimizer\n",
    "criterion = nn.CrossEntropyLoss(weight=torch.tensor([0.5949, 1.0, 0.946]).to(device))\n",
    "\n",
    "# Define the optimizer\n",
    "optimizer = torch.optim.Adam(CNN_model.parameters(), lr=5e-4)"
   ]
  },
  {
   "cell_type": "code",
   "execution_count": 30,
   "metadata": {},
   "outputs": [
    {
     "name": "stdout",
     "output_type": "stream",
     "text": [
      "Epoch [1/10], Train Loss: 0.0001, Val Loss: 0.0000\n",
      "Epoch [2/10], Train Loss: 0.0000, Val Loss: 0.0000\n",
      "Epoch [3/10], Train Loss: 0.0000, Val Loss: 0.0000\n",
      "Epoch [4/10], Train Loss: 0.0000, Val Loss: 0.0000\n",
      "Epoch [5/10], Train Loss: 0.0000, Val Loss: 0.0000\n",
      "Epoch [6/10], Train Loss: 0.0000, Val Loss: 0.0000\n",
      "Epoch [7/10], Train Loss: 0.0000, Val Loss: 0.0000\n",
      "Epoch [8/10], Train Loss: 0.0000, Val Loss: 0.0000\n",
      "Epoch [9/10], Train Loss: 0.0000, Val Loss: 0.0000\n",
      "Epoch [10/10], Train Loss: 0.0000, Val Loss: 0.0000\n"
     ]
    }
   ],
   "source": [
    "# Train the model\n",
    "num_epochs = 10\n",
    "train_losses, val_losses = CNNtrain(CNN_model, CNN_train_loader, CNN_val_loader, num_epochs, criterion, optimizer)"
   ]
  },
  {
   "cell_type": "code",
   "execution_count": 31,
   "metadata": {},
   "outputs": [
    {
     "data": {
      "image/png": "[encoded data removed]",
      "text/plain": [
       "<Figure size 640x480 with 1 Axes>"
      ]
     },
     "metadata": {},
     "output_type": "display_data"
    }
   ],
   "source": [
    "# Plot the training and validation losses\n",
    "plt.plot(train_losses, label='Train Loss')\n",
    "plt.plot(val_losses, label='Val Loss')\n",
    "plt.xlabel('Epoch')\n",
    "plt.ylabel('Loss')\n",
    "plt.legend(title='LR=5e-4')\n",
    "plt.show()"
   ]
  },
  {
   "cell_type": "code",
   "execution_count": 32,
   "metadata": {},
   "outputs": [
    {
     "name": "stdout",
     "output_type": "stream",
     "text": [
      "Test Accuracy: 1.0000\n"
     ]
    }
   ],
   "source": [
    "CNN_model.eval()\n",
    "total_samples = 0\n",
    "total_correct = 0\n",
    "with torch.no_grad():\n",
    "    for samples, labels in CNN_test_loader:\n",
    "        samples = samples.to(device)\n",
    "        labels = labels.to(device)\n",
    "        # Forward pass\n",
    "        outputs = CNN_model(samples)\n",
    "        _, predicted = torch.max(outputs, 1)\n",
    "        _, labels = torch.max(labels, 1)\n",
    "        total_samples += labels.size(0)\n",
    "        total_correct += (predicted == labels).sum().item()\n",
    "\n",
    "test_accuracy = total_correct / total_samples\n",
    "print(f'Test Accuracy: {test_accuracy:.4f}')"
   ]
  },
  {
   "cell_type": "markdown",
   "metadata": {},
   "source": [
    "## RNN"
   ]
  },
  {
   "cell_type": "code",
   "execution_count": 61,
   "metadata": {},
   "outputs": [],
   "source": [
    "class LSTMModel(nn.Module):\n",
    "    def __init__(self, input_dim=1, hidden_dim=64, num_layers=2, num_classes=3,dropout=0.5):\n",
    "        super().__init__()\n",
    "        self.hidden_dim = hidden_dim\n",
    "        self.num_layers = num_layers\n",
    "        self.encoder = nn.LSTM(input_dim, hidden_dim, num_layers=num_layers, batch_first=True)\n",
    "        self.dropout = nn.Dropout(dropout)\n",
    "        self.decoder = nn.Linear(hidden_dim, num_classes)\n",
    "        \n",
    "    def forward(self, x):\n",
    "        # input of LSTM [batch_size, seq_length, features]\n",
    "        out, hidden = self.encoder(x)\n",
    "        out = self.dropout(out[:, -1, :]) # get the last output\n",
    "        out = self.decoder(out)\n",
    "        return out\n"
   ]
  },
  {
   "cell_type": "code",
   "execution_count": 62,
   "metadata": {},
   "outputs": [],
   "source": [
    "model = LSTMModel().to(device)"
   ]
  },
  {
   "cell_type": "code",
   "execution_count": 63,
   "metadata": {},
   "outputs": [
    {
     "data": {
      "text/plain": [
       "==========================================================================================\n",
       "Layer (type:depth-idx)                   Output Shape              Param #\n",
       "==========================================================================================\n",
       "LSTMModel                                [64, 3]                   --\n",
       "├─LSTM: 1-1                              [64, 256, 64]             50,432\n",
       "├─Dropout: 1-2                           [64, 64]                  --\n",
       "├─Linear: 1-3                            [64, 3]                   195\n",
       "==========================================================================================\n",
       "Total params: 50,627\n",
       "Trainable params: 50,627\n",
       "Non-trainable params: 0\n",
       "Total mult-adds (M): 826.29\n",
       "==========================================================================================\n",
       "Input size (MB): 0.07\n",
       "Forward/backward pass size (MB): 8.39\n",
       "Params size (MB): 0.20\n",
       "Estimated Total Size (MB): 8.66\n",
       "=========================================================================================="
      ]
     },
     "execution_count": 63,
     "metadata": {},
     "output_type": "execute_result"
    }
   ],
   "source": [
    "summary2(model, input_size=(batch_size,256,1)) "
   ]
  },
  {
   "cell_type": "code",
   "execution_count": 64,
   "metadata": {},
   "outputs": [],
   "source": [
    "def train(model, train_loader, val_loader, num_epochs, criterion, optimizer):\n",
    "    model.train()  \n",
    "    train_losses = []\n",
    "    val_losses = []\n",
    "\n",
    "    for epoch in range(num_epochs):\n",
    "        model.train()\n",
    "        total_train_loss = 0\n",
    "        for batch_idx, (data, targets) in enumerate(train_loader):\n",
    "            data, targets = data.to(device), targets.to(device).long()\n",
    "\n",
    "            # forward\n",
    "            outputs = model(data)\n",
    "            loss = criterion(outputs, targets)\n",
    "\n",
    "            # backward and optimize\n",
    "            optimizer.zero_grad()\n",
    "            loss.backward()\n",
    "            optimizer.step()\n",
    "\n",
    "            total_train_loss += loss.item()\n",
    "\n",
    "        # calculate average losses\n",
    "        avg_train_loss = total_train_loss / len(train_loader)\n",
    "        train_losses.append(avg_train_loss)\n",
    "\n",
    "        # evaluate on the validation set\n",
    "        model.eval()\n",
    "        total_val_loss = 0\n",
    "        with torch.no_grad():\n",
    "            for batch_idx, (data, targets) in enumerate(val_loader):\n",
    "                data, targets = data.to(device), targets.to(device).long()\n",
    "                outputs = model(data)\n",
    "                loss = criterion(outputs, targets)\n",
    "                total_val_loss += loss.item()\n",
    "\n",
    "        # calculate average lossess\n",
    "        avg_val_loss = total_val_loss / len(val_loader)\n",
    "        val_losses.append(avg_val_loss)\n",
    "\n",
    "        print(f'Epoch [{epoch+1}/{num_epochs}], Train Loss: {avg_train_loss:.4f}, Val Loss: {avg_val_loss:.4f}')\n",
    "\n",
    "    return train_losses, val_losses\n"
   ]
  },
  {
   "cell_type": "code",
   "execution_count": 65,
   "metadata": {},
   "outputs": [],
   "source": [
    "optimizer = torch.optim.Adam(model.parameters(), lr=1e-5)\n",
    "criterion = nn.CrossEntropyLoss(weight=torch.tensor([0.5949, 1.0, 0.946]).to(device))"
   ]
  },
  {
   "cell_type": "code",
   "execution_count": 66,
   "metadata": {},
   "outputs": [
    {
     "name": "stdout",
     "output_type": "stream",
     "text": [
      "Epoch [1/10], Train Loss: 0.8416, Val Loss: 0.5485\n",
      "Epoch [2/10], Train Loss: 0.5246, Val Loss: 0.5066\n",
      "Epoch [3/10], Train Loss: 0.5107, Val Loss: 0.4980\n",
      "Epoch [4/10], Train Loss: 0.3982, Val Loss: 0.2762\n",
      "Epoch [5/10], Train Loss: 0.2150, Val Loss: 0.1922\n",
      "Epoch [6/10], Train Loss: 0.1923, Val Loss: 0.1765\n",
      "Epoch [7/10], Train Loss: 0.1828, Val Loss: 0.1661\n",
      "Epoch [8/10], Train Loss: 0.1909, Val Loss: 0.1920\n",
      "Epoch [9/10], Train Loss: 0.2060, Val Loss: 0.2019\n",
      "Epoch [10/10], Train Loss: 0.2034, Val Loss: 0.1817\n"
     ]
    }
   ],
   "source": [
    "#train the model\n",
    "num_epochs = 10\n",
    "train_losses, val_losses = train(model, RNN_train_loader, RNN_val_loader, num_epochs, criterion, optimizer)\n"
   ]
  },
  {
   "cell_type": "code",
   "execution_count": 67,
   "metadata": {},
   "outputs": [
    {
     "data": {
      "image/png": "[encoded data removed]",
      "text/plain": [
       "<Figure size 640x480 with 1 Axes>"
      ]
     },
     "metadata": {},
     "output_type": "display_data"
    }
   ],
   "source": [
    "# Plot the training and validation losses\n",
    "plt.plot(train_losses, label='Train Loss')\n",
    "plt.plot(val_losses, label='Val Loss')\n",
    "plt.xlabel('Epoch')\n",
    "plt.ylabel('Loss')\n",
    "plt.legend(title='LR=1e-5')\n",
    "plt.show()"
   ]
  },
  {
   "cell_type": "code",
   "execution_count": 68,
   "metadata": {},
   "outputs": [
    {
     "name": "stdout",
     "output_type": "stream",
     "text": [
      "Test Accuracy: 0.9330\n"
     ]
    }
   ],
   "source": [
    "model.eval()\n",
    "total_samples = 0\n",
    "total_correct = 0\n",
    "with torch.no_grad():\n",
    "    for samples, labels in RNN_test_loader:\n",
    "        samples = samples.to(device)\n",
    "        labels = labels.to(device)\n",
    "        # Forward pass\n",
    "        outputs = model(samples)\n",
    "        _, predicted = torch.max(outputs, 1)\n",
    "        total_samples += labels.size(0)\n",
    "        total_correct += (predicted == labels).sum().item()\n",
    "\n",
    "test_accuracy = total_correct / total_samples\n",
    "print(f'Test Accuracy: {test_accuracy:.4f}')\n"
   ]
  },
  {
   "cell_type": "markdown",
   "metadata": {},
   "source": [
    "## SVM"
   ]
  },
  {
   "cell_type": "code",
   "execution_count": 64,
   "metadata": {},
   "outputs": [
    {
     "name": "stdout",
     "output_type": "stream",
     "text": [
      "Validation Accuracy: 0.9994\n",
      "Test Accuracy: 0.9993\n"
     ]
    },
    {
     "data": {
      "image/png": "[encoded data removed]",
      "text/plain": [
       "<Figure size 640x480 with 2 Axes>"
      ]
     },
     "metadata": {},
     "output_type": "display_data"
    }
   ],
   "source": [
    "# Load the data\n",
    "X_train = []\n",
    "y_train = []\n",
    "for samples, labels in train_loader:\n",
    "    samples = samples.numpy()\n",
    "    labels = labels.numpy()\n",
    "    X_train.extend(samples)\n",
    "    y_train.extend(labels)\n",
    "X_train = np.array(X_train)\n",
    "y_train = np.array(y_train)\n",
    "\n",
    "X_val = []\n",
    "y_val = []\n",
    "for samples, labels in val_loader:\n",
    "    samples = samples.numpy()\n",
    "    labels = labels.numpy()\n",
    "    X_val.extend(samples)\n",
    "    y_val.extend(labels)\n",
    "X_val = np.array(X_val)\n",
    "y_val = np.array(y_val)\n",
    "\n",
    "X_test = []\n",
    "y_test = []\n",
    "for samples, labels in test_loader:\n",
    "    samples = samples.numpy()\n",
    "    labels = labels.numpy()\n",
    "    X_test.extend(samples)\n",
    "    y_test.extend(labels)\n",
    "X_test = np.array(X_test)\n",
    "y_test = np.array(y_test)\n",
    "\n",
    "# Standardize the data\n",
    "scaler = StandardScaler()\n",
    "X_train = scaler.fit_transform(X_train)\n",
    "X_val = scaler.transform(X_val)\n",
    "X_test = scaler.transform(X_test)\n",
    "\n",
    "# Train the SVM model\n",
    "model = svm.SVC(kernel='rbf', C=1, gamma='auto')\n",
    "model.fit(X_train, y_train)\n",
    "\n",
    "# Evaluate the model on the validation set\n",
    "y_val_pred = model.predict(X_val)\n",
    "val_accuracy = np.mean(y_val_pred == y_val)\n",
    "print(f'Validation Accuracy: {val_accuracy:.4f}')\n",
    "\n",
    "# Evaluate the model on the test set\n",
    "y_test_pred = model.predict(X_test)\n",
    "test_accuracy = np.mean(y_test_pred == y_test)\n",
    "print(f'Test Accuracy: {test_accuracy:.4f}')\n",
    "\n",
    "# Plot the confusion matrix\n",
    "conf_matrix = confusion_matrix(y_test, y_test_pred)\n",
    "plt.imshow(conf_matrix, cmap='Blues')\n",
    "plt.colorbar()\n",
    "plt.xlabel('Predicted Label')\n",
    "plt.ylabel('True Label')\n",
    "plt.show()\n"
   ]
  },
  {
   "cell_type": "code",
   "execution_count": 65,
   "metadata": {},
   "outputs": [
    {
     "data": {
      "image/png": "[encoded data removed]",
      "text/plain": [
       "<Figure size 640x480 with 1 Axes>"
      ]
     },
     "metadata": {},
     "output_type": "display_data"
    }
   ],
   "source": [
    "\n",
    "# Plot the ROC curve\n",
    "n_classes = 3\n",
    "fpr = dict()\n",
    "tpr = dict()\n",
    "roc_auc = dict()\n",
    "y_test = y_test.astype(int)\n",
    "y_test_pred = y_test_pred.astype(int)\n",
    "y_test_one_hot = np.eye(n_classes)[y_test]\n",
    "y_test_pred_one_hot = np.eye(n_classes)[y_test_pred]\n",
    "for i in range(n_classes):\n",
    "    fpr[i], tpr[i], _ = roc_curve(y_test_one_hot[:, i], y_test_pred_one_hot[:, i])\n",
    "    roc_auc[i] = auc(fpr[i], tpr[i])\n",
    "\n",
    "# Plot all ROC curves\n",
    "plt.figure()\n",
    "colors = cycle(['aqua', 'darkorange', 'cornflowerblue'])\n",
    "for i, color in zip(range(n_classes), colors):\n",
    "    plt.plot(fpr[i], tpr[i], color=color, lw=2,\n",
    "             label=f'ROC curve of class {i} (area = {roc_auc[i]:0.2f})')\n",
    "plt.plot([0, 1], [0, 1], 'k--', lw=2)\n",
    "plt.xlim([0.0, 1.0])\n",
    "plt.ylim([0.0, 1.05])\n",
    "plt.xlabel('False Positive Rate')\n",
    "plt.ylabel('True Positive Rate')\n",
    "plt.title('Receiver Operating Characteristic')\n",
    "plt.legend(loc='lower right')\n",
    "plt.show()\n"
   ]
  }
 ],
 "metadata": {
  "kernelspec": {
   "display_name": "FYP",
   "language": "python",
   "name": "python3"
  },
  "language_info": {
   "codemirror_mode": {
    "name": "ipython",
    "version": 3
   },
   "file_extension": ".py",
   "mimetype": "text/x-python",
   "name": "python",
   "nbconvert_exporter": "python",
   "pygments_lexer": "ipython3",
   "version": "3.8.18"
  }
 },
 "nbformat": 4,
 "nbformat_minor": 2
}
